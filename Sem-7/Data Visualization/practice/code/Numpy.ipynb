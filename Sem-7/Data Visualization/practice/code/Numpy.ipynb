{
 "cells": [
  {
   "cell_type": "markdown",
   "metadata": {
    "editable": true,
    "slideshow": {
     "slide_type": ""
    },
    "tags": []
   },
   "source": [
    "## Imports"
   ]
  },
  {
   "cell_type": "code",
   "execution_count": 1,
   "metadata": {},
   "outputs": [],
   "source": [
    "import numpy as np"
   ]
  },
  {
   "cell_type": "markdown",
   "metadata": {},
   "source": [
    "## Practical 1"
   ]
  },
  {
   "cell_type": "code",
   "execution_count": 2,
   "metadata": {},
   "outputs": [
    {
     "name": "stdout",
     "output_type": "stream",
     "text": [
      "Array :[[6 7 5]\n",
      " [8 0 1]]\n",
      "Dtype :int64\n",
      "Shape :(2, 3)\n",
      "N dimention :2\n"
     ]
    }
   ],
   "source": [
    "data1 = [[6,7,5],[8,0,1]]\n",
    "arr1 = np.array(data1)\n",
    "print(f\"Array :{arr1}\")\n",
    "print(f\"Dtype :{arr1.dtype}\")\n",
    "print(f\"Shape :{arr1.shape}\")\n",
    "print(f\"N dimention :{arr1.ndim}\")"
   ]
  },
  {
   "cell_type": "code",
   "execution_count": 3,
   "metadata": {},
   "outputs": [
    {
     "name": "stdout",
     "output_type": "stream",
     "text": [
      "Zeros :\n",
      "[[0. 0. 0. 0.]\n",
      " [0. 0. 0. 0.]]\n",
      "\n",
      "Ones :\n",
      "[[1. 1. 1.]\n",
      " [1. 1. 1.]]\n",
      "\n",
      "Eye :\n",
      "[[1. 0. 0.]\n",
      " [0. 1. 0.]\n",
      " [0. 0. 1.]]\n",
      "\n",
      "Arange :\n",
      "[0 2 4 6 8]\n",
      "\n",
      "Mulitply :\n",
      "[48  0  5]\n",
      "\n",
      "Power :\n",
      "[36 49 25]\n",
      "\n",
      "Comparison :\n",
      "[False  True  True]\n",
      "\n"
     ]
    }
   ],
   "source": [
    "print(f\"Zeros :\\n{np.zeros((2,4))}\\n\")\n",
    "print(f\"Ones :\\n{np.ones((2,3))}\\n\")\n",
    "print(f\"Eye :\\n{np.eye(3)}\\n\")\n",
    "print(f\"Arange :\\n{np.arange(0,10,2)}\\n\")\n",
    "print(f\"Mulitply :\\n{arr1[0]*arr1[1]}\\n\")\n",
    "print(f\"Power :\\n{arr1[0]**2}\\n\")\n",
    "print(f\"Comparison :\\n{arr1[0]>arr1[1]}\\n\")"
   ]
  },
  {
   "cell_type": "code",
   "execution_count": 4,
   "metadata": {},
   "outputs": [
    {
     "name": "stdout",
     "output_type": "stream",
     "text": [
      "Array slicing :\n",
      "[2 3 4 5 6 7 8]\n",
      "\n",
      "Array update using slicing :\n",
      "[  1   2   3   4   5   6 123   8   9  10]\n",
      "\n"
     ]
    }
   ],
   "source": [
    "arr2 = np.array([1,2,3,4,5,6,7,8,9,10])\n",
    "print(f\"Array slicing :\\n{arr2[1:-2]}\\n\")\n",
    "arrSlice = arr2[5:8]\n",
    "arrSlice[1]=123\n",
    "print(f\"Array update using slicing :\\n{arr2}\\n\")"
   ]
  },
  {
   "cell_type": "code",
   "execution_count": 5,
   "metadata": {},
   "outputs": [
    {
     "name": "stdout",
     "output_type": "stream",
     "text": [
      "[5 6]\n"
     ]
    }
   ],
   "source": [
    "arr2 = np.array([[1,2,3],[4,5,6],[7,8,9]])\n",
    "print(arr2[1,1:3])"
   ]
  },
  {
   "cell_type": "markdown",
   "metadata": {},
   "source": [
    "## Jay Patel"
   ]
  },
  {
   "cell_type": "code",
   "execution_count": 6,
   "metadata": {},
   "outputs": [
    {
     "name": "stdout",
     "output_type": "stream",
     "text": [
      "1. Array Creation\n",
      "Array from list: [1 2 3 4 5]\n",
      "2D array : [[1 2 3]\n",
      " [4 5 6]]\n",
      "Array of zeros\n",
      " [[0. 0. 0.]\n",
      " [0. 0. 0.]\n",
      " [0. 0. 0.]\n",
      " [0. 0. 0.]\n",
      " [0. 0. 0.]]\n",
      "Array of ones:\n",
      " [[1. 1. 1. 1.]\n",
      " [1. 1. 1. 1.]]\n",
      "Empty array:\n",
      " [[1. 1. 1.]\n",
      " [1. 1. 1.]]\n",
      "Array of a range\n",
      " [ 0  2  4  6  8 10 12 14 16 18]\n",
      "Array with evenly spaces values \n",
      " [0.   0.25 0.5  0.75 1.  ]\n",
      "Array with random values :\n",
      " [[0.55206884 0.06713099 0.99990172 0.36044326]\n",
      " [0.6895272  0.13450492 0.82563501 0.44126333]]\n"
     ]
    }
   ],
   "source": [
    "print(\"1. Array Creation\")\n",
    "a  = np.array([1,2,3,4,5])\n",
    "print(\"Array from list:\",a)\n",
    "\n",
    "b = np.array([[1,2,3],[4,5,6]])\n",
    "print(\"2D array :\",b)\n",
    "print(\"Array of zeros\\n\",np.zeros((5,3)))\n",
    "print(\"Array of ones:\\n\",np.ones((2,4)))\n",
    "print(\"Empty array:\\n\",np.empty((2,3)))\n",
    "print(\"Array of a range\\n\",np.arange(0,20,2))\n",
    "print(\"Array with evenly spaces values \\n\",np.linspace(0,1,5))\n",
    "print(\"Array with random values :\\n\",np.random.random((2,4)))"
   ]
  },
  {
   "cell_type": "code",
   "execution_count": 7,
   "metadata": {},
   "outputs": [
    {
     "name": "stdout",
     "output_type": "stream",
     "text": [
      "\n",
      "\n",
      "2. Array indexing and slicing \n",
      "\n",
      "Original array \n",
      " [ 10  20  30  40  50  60  70  80  90 100]\n",
      "[20 30 40 50 60 70]\n",
      "2D array [[ 10  20  30  60]\n",
      " [ 40  50  60  80]\n",
      " [ 70  80  90  50]\n",
      " [100 110 120 450]]\n",
      "\n",
      " [10 20 30 60]\n"
     ]
    }
   ],
   "source": [
    "print(\"\\n\\n2. Array indexing and slicing \\n\")\n",
    "c = np.array([10,20,30,40,50,60,70,80,90,100])\n",
    "print(\"Original array \\n\",c)\n",
    "print(c[1:-3])\n",
    "d = np.array([[10,20,30,60],[40,50,60,80],[70,80,90,50],[100,110,120,450]])\n",
    "print(\"2D array\",d)\n",
    "print(\"\\n\",d[0,:])"
   ]
  },
  {
   "cell_type": "code",
   "execution_count": 8,
   "metadata": {},
   "outputs": [
    {
     "name": "stdout",
     "output_type": "stream",
     "text": [
      "Reshaping\n",
      "[[ 0  1  2  3]\n",
      " [ 4  5  6  7]\n",
      " [ 8  9 10 11]]\n",
      "Addition [5 7 9]\n",
      "Subtract [-3 -3 -3]\n",
      "Exponential [ 2.71828183  7.3890561  20.08553692]\n",
      "Square root [1.         1.41421356 1.73205081]\n",
      "Sum of array 6\n",
      "Sum along axis 0 6\n",
      "Mean of array 2.0\n",
      "Standard deviation of array 0.816496580927726\n",
      "Matrix multipliction 32\n",
      "Determinant 1.2889689315898067e-10\n",
      "Inverstion [[-1.00079992e+15  1.88522775e+15 -7.68055750e+14 -1.16372083e+14]\n",
      " [ 2.00159983e+15 -3.77045550e+15  1.53611150e+15  2.32744167e+14]\n",
      " [-1.00079992e+15  1.88522775e+15 -7.68055750e+14 -1.16372083e+14]\n",
      " [-2.22222222e-02  4.41860465e-02 -2.17054264e-02 -2.58397933e-04]]\n"
     ]
    }
   ],
   "source": [
    "print(\"Reshaping\")\n",
    "e = np.arange(12)\n",
    "reshaped = e.reshape(3,4)\n",
    "print(reshaped)\n",
    "\n",
    "## mathematical operations\n",
    "f = np.array([1,2,3])\n",
    "g = np.array([4,5,6])\n",
    "\n",
    "print(\"Addition\",f+g)\n",
    "print(\"Subtract\",f-g)\n",
    "print(\"Exponential\",np.exp(f))\n",
    "print(\"Square root\",np.sqrt(f))\n",
    "print(\"Sum of array\",np.sum(f))\n",
    "print(\"Sum along axis 0\",np.sum(f,axis=0))\n",
    "print(\"Mean of array\",np.mean(f))\n",
    "print(\"Standard deviation of array\",np.std(f))\n",
    "\n",
    "print(\"Matrix multipliction\",np.dot(f,g))\n",
    "print(\"Determinant\",np.linalg.det(d))\n",
    "print(\"Inverstion\",np.linalg.inv(d))"
   ]
  }
 ],
 "metadata": {
  "kernelspec": {
   "display_name": "Python 3 (ipykernel)",
   "language": "python",
   "name": "python3"
  },
  "language_info": {
   "codemirror_mode": {
    "name": "ipython",
    "version": 3
   },
   "file_extension": ".py",
   "mimetype": "text/x-python",
   "name": "python",
   "nbconvert_exporter": "python",
   "pygments_lexer": "ipython3",
   "version": "3.12.5"
  }
 },
 "nbformat": 4,
 "nbformat_minor": 4
}
