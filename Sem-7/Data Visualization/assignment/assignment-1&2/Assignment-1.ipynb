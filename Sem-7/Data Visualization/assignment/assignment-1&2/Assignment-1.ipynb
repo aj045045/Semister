{
 "cells": [
  {
   "cell_type": "markdown",
   "metadata": {},
   "source": [
    "### Imports"
   ]
  },
  {
   "cell_type": "code",
   "execution_count": 2,
   "metadata": {},
   "outputs": [],
   "source": [
    "import pandas as pd\n",
    "import numpy as np\n",
    "import matplotlib.pyplot as plt"
   ]
  },
  {
   "cell_type": "markdown",
   "metadata": {},
   "source": [
    "### Question 1"
   ]
  },
  {
   "cell_type": "code",
   "execution_count": 3,
   "metadata": {},
   "outputs": [
    {
     "name": "stdout",
     "output_type": "stream",
     "text": [
      "Index(['Product Name', 'ProductID', 'Product image', 'Actual price',\n",
      "       'Discount price', 'Stars', 'Rating', 'Reviews', 'Description', 'Link'],\n",
      "      dtype='object')\n"
     ]
    }
   ],
   "source": [
    "df = pd.read_excel('./dataset/Flipkart-Laptops.xlsx')\n",
    "print(df.columns)"
   ]
  },
  {
   "cell_type": "code",
   "execution_count": 4,
   "metadata": {},
   "outputs": [],
   "source": [
    "\"\"\"Load the dataset into a pandas Data Frame.\"\"\"\n",
    "\n",
    "df = pd.DataFrame(df)"
   ]
  },
  {
   "cell_type": "code",
   "execution_count": 5,
   "metadata": {},
   "outputs": [
    {
     "name": "stdout",
     "output_type": "stream",
     "text": [
      "\n",
      "The first 5 row of dataset \n",
      "                                        Product Name         ProductID  \\\n",
      "0  MSI Cyborg 15 Intel Core i5 12th Gen 12450H - ...  COMGZW35W3DSJADN   \n",
      "1  MSI Thin 15 Intel Core i7 12th Gen 12650H - (8...  COMGZW37ZX66DBHF   \n",
      "2  DELL Inspiron 3520 Intel Core i3 12th Gen 1215...  COMGJ75HJGFDJ6JN   \n",
      "3  Acer One (2024) Intel Core i3 11th Gen 1115G4 ...  COMGPF5CQ7VDWDT4   \n",
      "4  Lenovo V15 AMD Ryzen 3 Quad Core 7320U - (8 GB...  COMGPYKZAWY8UX6C   \n",
      "\n",
      "   Product image Actual price Discount price Stars         Rating  \\\n",
      "0            NaN        89990          54990   3.9      7 Ratings   \n",
      "1            NaN        83990          67990   NIL            NIL   \n",
      "2            NaN        49240          35660   4.2  1,805 Ratings   \n",
      "3            NaN        43999          26990   4.2  6,977 Ratings   \n",
      "4            NaN        59400          27989   4.2  1,263 Ratings   \n",
      "\n",
      "       Reviews                                        Description  \\\n",
      "0    1 Reviews  Intel Core i5 Processor (12th Gen)16 GB DDR5 R...   \n",
      "1          NIL  Intel Core i7 Processor (12th Gen)8 GB DDR4 RA...   \n",
      "2  143 Reviews  Intel Core i3 Processor (12th Gen)8 GB DDR4 RA...   \n",
      "3  596 Reviews  Intel Core i3 Processor (11th Gen)8 GB DDR4 RA...   \n",
      "4  113 Reviews  AMD Ryzen 3 Quad Core Processor8 GB LPDDR5 RAM...   \n",
      "\n",
      "                                                Link  \n",
      "0  https://www.flipkart.com/msi-cyborg-15-intel-c...  \n",
      "1  https://www.flipkart.com/msi-thin-15-intel-cor...  \n",
      "2  https://www.flipkart.com/dell-inspiron-3520-in...  \n",
      "3  https://www.flipkart.com/acer-one-2024-intel-c...  \n",
      "4  https://www.flipkart.com/lenovo-v15-amd-ryzen-...  \n",
      "\n",
      "The last 5 row of dataset \n",
      "                                          Product Name         ProductID  \\\n",
      "955  Acer Swift Go 14 (2024) AI Powered EVO Intel C...  COMGWKF2VKGAVHDU   \n",
      "956  HP Victus Intel Core i5 12th Gen 12450H - (16 ...  COMH2DYZHMHZ5UPG   \n",
      "957  Infinix X1 Slim Series (2024) Intel Core i3 10...  COMGEHP5EFEGWZW5   \n",
      "958  Lenovo IdeaPad Slim 3 Intel Core i5 12th Gen 1...  COMGYHP5ZB4AGZH6   \n",
      "959  HP (15s-fq5007TU) Intel Core i3 12th Gen 1215U...  COMGYHP5MCEYZHSV   \n",
      "\n",
      "     Product image Actual price Discount price Stars         Rating  \\\n",
      "955            NaN       129999          79990   4.1    108 Ratings   \n",
      "956            NaN          NIL          82414   NIL            NIL   \n",
      "957            NaN        49999          32990   4.3  3,897 Ratings   \n",
      "958            NaN        69890          53390   3.8     53 Ratings   \n",
      "959            NaN        51134          38990   4.2  5,540 Ratings   \n",
      "\n",
      "         Reviews                                        Description  \\\n",
      "955   16 Reviews  Intel Core Ultra 5 Processor16 GB LPDDR5X RAMW...   \n",
      "956          NIL  Intel Core i5 Processor (12th Gen)16 GB DDR4 R...   \n",
      "957  457 Reviews  Intel Core i3 Processor (10th Gen)8 GB LPDDR4X...   \n",
      "958    5 Reviews  Intel Core i5 Processor (12th Gen)16 GB LPDDR5...   \n",
      "959  485 Reviews  Intel Core i3 Processor (12th Gen)8 GB DDR4 RA...   \n",
      "\n",
      "                                                  Link  \n",
      "955  https://www.flipkart.com/acer-swift-go-14-2024...  \n",
      "956  https://www.flipkart.com/hp-victus-intel-core-...  \n",
      "957  https://www.flipkart.com/infinix-x1-slim-serie...  \n",
      "958  https://www.flipkart.com/lenovo-ideapad-slim-3...  \n",
      "959  https://www.flipkart.com/hp-15s-fq5007tu-intel...  \n"
     ]
    }
   ],
   "source": [
    "\"\"\" Display the first and the last 5 rows of the dataset\"\"\"\n",
    "\n",
    "print(f\"\\nThe first 5 row of dataset \\n{df.head()}\")\n",
    "print(f\"\\nThe last 5 row of dataset \\n{df.tail()}\")"
   ]
  },
  {
   "cell_type": "code",
   "execution_count": 6,
   "metadata": {},
   "outputs": [
    {
     "name": "stdout",
     "output_type": "stream",
     "text": [
      "Does any columns contain Null value: \n",
      "Product Name      False\n",
      "ProductID         False\n",
      "Actual price       True\n",
      "Discount price     True\n",
      "Stars              True\n",
      "Rating            False\n",
      "Reviews            True\n",
      "Description       False\n",
      "Link              False\n",
      "dtype: bool\n",
      "\n",
      "Does any columns contain Null value: \n",
      "\n",
      "Product Name      False\n",
      "ProductID         False\n",
      "Actual price      False\n",
      "Discount price    False\n",
      "Stars             False\n",
      "Rating            False\n",
      "Reviews           False\n",
      "Description       False\n",
      "Link              False\n",
      "dtype: bool\n"
     ]
    }
   ],
   "source": [
    "\"\"\"Custom Data Works\"\"\"\n",
    "\n",
    "# df = df.head()\n",
    "df = df.dropna(axis=1,how='all')\n",
    "df['Actual price'] = pd.to_numeric(df['Actual price'], errors='coerce')\n",
    "\n",
    "df['Discount price'] = pd.to_numeric(df['Discount price'], errors='coerce')\n",
    "df['Discount price'] = df['Discount price'].replace({'₹': '', ',': ''}, regex=True).astype(float)\n",
    "df['Rating'] = df['Rating'].str.replace(' Ratings', '')\n",
    "\n",
    "df['Reviews'] = df['Reviews'].str.replace(' Reviews','')\n",
    "df['Reviews'] = pd.to_numeric(df['Reviews'].str.replace(',',''),errors='coerce')\n",
    "\n",
    "df['Stars'] = pd.to_numeric(df['Stars'], errors='coerce')\n",
    "\n",
    "print(f\"Does any columns contain Null value: \\n{df.isna().any(axis=0)}\")\n",
    "df = df.fillna(0)\n",
    "print(f\"\\nDoes any columns contain Null value: \\n\\n{df.isna().any(axis=0)}\")\n",
    "\n"
   ]
  },
  {
   "cell_type": "code",
   "execution_count": 7,
   "metadata": {},
   "outputs": [
    {
     "name": "stdout",
     "output_type": "stream",
     "text": [
      "\n",
      "The total sales of each company \n",
      "                                          Product Name         ProductID  \\\n",
      "0    MSI Cyborg 15 Intel Core i5 12th Gen 12450H - ...  COMGZW35W3DSJADN   \n",
      "1    MSI Thin 15 Intel Core i7 12th Gen 12650H - (8...  COMGZW37ZX66DBHF   \n",
      "2    DELL Inspiron 3520 Intel Core i3 12th Gen 1215...  COMGJ75HJGFDJ6JN   \n",
      "3    Acer One (2024) Intel Core i3 11th Gen 1115G4 ...  COMGPF5CQ7VDWDT4   \n",
      "4    Lenovo V15 AMD Ryzen 3 Quad Core 7320U - (8 GB...  COMGPYKZAWY8UX6C   \n",
      "..                                                 ...               ...   \n",
      "955  Acer Swift Go 14 (2024) AI Powered EVO Intel C...  COMGWKF2VKGAVHDU   \n",
      "956  HP Victus Intel Core i5 12th Gen 12450H - (16 ...  COMH2DYZHMHZ5UPG   \n",
      "957  Infinix X1 Slim Series (2024) Intel Core i3 10...  COMGEHP5EFEGWZW5   \n",
      "958  Lenovo IdeaPad Slim 3 Intel Core i5 12th Gen 1...  COMGYHP5ZB4AGZH6   \n",
      "959  HP (15s-fq5007TU) Intel Core i3 12th Gen 1215U...  COMGYHP5MCEYZHSV   \n",
      "\n",
      "     Actual price  Discount price  Stars Rating  Reviews  \\\n",
      "0         89990.0         54990.0    3.9      7      1.0   \n",
      "1         83990.0         67990.0    0.0    NIL      0.0   \n",
      "2         49240.0         35660.0    4.2  1,805    143.0   \n",
      "3         43999.0         26990.0    4.2  6,977    596.0   \n",
      "4         59400.0         27989.0    4.2  1,263    113.0   \n",
      "..            ...             ...    ...    ...      ...   \n",
      "955      129999.0         79990.0    4.1    108     16.0   \n",
      "956           0.0         82414.0    0.0    NIL      0.0   \n",
      "957       49999.0         32990.0    4.3  3,897    457.0   \n",
      "958       69890.0         53390.0    3.8     53      5.0   \n",
      "959       51134.0         38990.0    4.2  5,540    485.0   \n",
      "\n",
      "                                           Description  \\\n",
      "0    Intel Core i5 Processor (12th Gen)16 GB DDR5 R...   \n",
      "1    Intel Core i7 Processor (12th Gen)8 GB DDR4 RA...   \n",
      "2    Intel Core i3 Processor (12th Gen)8 GB DDR4 RA...   \n",
      "3    Intel Core i3 Processor (11th Gen)8 GB DDR4 RA...   \n",
      "4    AMD Ryzen 3 Quad Core Processor8 GB LPDDR5 RAM...   \n",
      "..                                                 ...   \n",
      "955  Intel Core Ultra 5 Processor16 GB LPDDR5X RAMW...   \n",
      "956  Intel Core i5 Processor (12th Gen)16 GB DDR4 R...   \n",
      "957  Intel Core i3 Processor (10th Gen)8 GB LPDDR4X...   \n",
      "958  Intel Core i5 Processor (12th Gen)16 GB LPDDR5...   \n",
      "959  Intel Core i3 Processor (12th Gen)8 GB DDR4 RA...   \n",
      "\n",
      "                                                  Link  Total Sales  \n",
      "0    https://www.flipkart.com/msi-cyborg-15-intel-c...      35000.0  \n",
      "1    https://www.flipkart.com/msi-thin-15-intel-cor...      16000.0  \n",
      "2    https://www.flipkart.com/dell-inspiron-3520-in...      13580.0  \n",
      "3    https://www.flipkart.com/acer-one-2024-intel-c...      17009.0  \n",
      "4    https://www.flipkart.com/lenovo-v15-amd-ryzen-...      31411.0  \n",
      "..                                                 ...          ...  \n",
      "955  https://www.flipkart.com/acer-swift-go-14-2024...      50009.0  \n",
      "956  https://www.flipkart.com/hp-victus-intel-core-...     -82414.0  \n",
      "957  https://www.flipkart.com/infinix-x1-slim-serie...      17009.0  \n",
      "958  https://www.flipkart.com/lenovo-ideapad-slim-3...      16500.0  \n",
      "959  https://www.flipkart.com/hp-15s-fq5007tu-intel...      12144.0  \n",
      "\n",
      "[960 rows x 10 columns]\n"
     ]
    }
   ],
   "source": [
    "\"\"\"Calculate the total sales of each company\"\"\"\n",
    "\n",
    "df['Total Sales'] = df['Actual price'] - df['Discount price']\n",
    "print(f\"\\nThe total sales of each company \\n{df}\")"
   ]
  },
  {
   "cell_type": "code",
   "execution_count": 8,
   "metadata": {},
   "outputs": [
    {
     "name": "stdout",
     "output_type": "stream",
     "text": [
      "\n",
      "Product Greater than 50000 and less than 80000 \n",
      "                                          Product Name  Actual price\n",
      "4    Lenovo V15 AMD Ryzen 3 Quad Core 7320U - (8 GB...       59400.0\n",
      "5    Lenovo AMD Ryzen 3 Quad Core 7330U - (8 GB/512...       63900.0\n",
      "6    HP FQ Series Intel Core i3 12th Gen 1215U - (8...       50843.0\n",
      "12   HP AMD Ryzen 5 Hexa Core 5500U - (16 GB/512 GB...       59109.0\n",
      "19   HP 2023 Intel Core i3 12th Gen 1215U - (8 GB/5...       51266.0\n",
      "..                                                 ...           ...\n",
      "950  DELL Intel Core i3 13th Gen 1305U - (8 GB/512 ...       51944.0\n",
      "951  HP Pavilion AMD Ryzen 5 Hexa Core AMD R5-5600H...       73544.0\n",
      "952  HP Intel Core i3 12th Gen 1215U - (16 GB/512 G...       52721.0\n",
      "958  Lenovo IdeaPad Slim 3 Intel Core i5 12th Gen 1...       69890.0\n",
      "959  HP (15s-fq5007TU) Intel Core i3 12th Gen 1215U...       51134.0\n",
      "\n",
      "[444 rows x 2 columns]\n"
     ]
    }
   ],
   "source": [
    "\"\"\"Display the product name that has price greater than 50000 and less than 80000\"\"\"\n",
    "\n",
    "dfGreaterOrLess = df[(df['Actual price'] > 50000) & (df['Actual price'] < 80000)]\n",
    "print(f\"\\nProduct Greater than 50000 and less than 80000 \\n{dfGreaterOrLess[['Product Name','Actual price']]}\")\n"
   ]
  },
  {
   "cell_type": "code",
   "execution_count": 9,
   "metadata": {},
   "outputs": [
    {
     "name": "stdout",
     "output_type": "stream",
     "text": [
      "\n",
      "Total number of products which has more than 3000 ratings: 159\n"
     ]
    }
   ],
   "source": [
    "\n",
    "\"\"\"Count total number of products which has more than 3000 ratings\"\"\"\n",
    "\n",
    "df['Rating'] = pd.to_numeric(df['Rating'].str.replace(',', ''),errors='coerce')\n",
    "print(f\"\\nTotal number of products which has more than 3000 ratings: {df[df['Rating'] > 3000]['Product Name'].count()}\")\n"
   ]
  },
  {
   "cell_type": "code",
   "execution_count": 10,
   "metadata": {},
   "outputs": [
    {
     "name": "stdout",
     "output_type": "stream",
     "text": [
      "\n",
      "Display the Product having maximum reviews \n",
      "Product Name      realme Book(Slim) Intel Evo Intel Core i5 11th...\n",
      "ProductID                                          COMG5YDPM8FZZWMQ\n",
      "Actual price                                                69999.0\n",
      "Discount price                                              47999.0\n",
      "Stars                                                           4.3\n",
      "Rating                                                       7975.0\n",
      "Reviews                                                      1042.0\n",
      "Description       Powered by 11th Gen Intel Evo Core i5 Processo...\n",
      "Link              https://www.flipkart.com/realme-book-slim-inte...\n",
      "Total Sales                                                 22000.0\n",
      "Name: 419, dtype: object\n",
      "\n",
      "Display the Product having minimum reviews \n",
      "Product Name      MSI Thin 15 Intel Core i7 12th Gen 12650H - (8...\n",
      "ProductID                                          COMGZW37ZX66DBHF\n",
      "Actual price                                                83990.0\n",
      "Discount price                                              67990.0\n",
      "Stars                                                           0.0\n",
      "Rating                                                          NaN\n",
      "Reviews                                                         0.0\n",
      "Description       Intel Core i7 Processor (12th Gen)8 GB DDR4 RA...\n",
      "Link              https://www.flipkart.com/msi-thin-15-intel-cor...\n",
      "Total Sales                                                 16000.0\n",
      "Name: 1, dtype: object\n"
     ]
    }
   ],
   "source": [
    "\n",
    "\"\"\"Display the product name which has maximum and minimum review count\"\"\"\n",
    "\n",
    "print(f\"\\nDisplay the Product having maximum reviews \\n{df.loc[df['Reviews'].idxmax()]}\")\n",
    "print(f\"\\nDisplay the Product having minimum reviews \\n{df.loc[df['Reviews'].idxmin()]}\")\n"
   ]
  },
  {
   "cell_type": "code",
   "execution_count": 25,
   "metadata": {},
   "outputs": [
    {
     "name": "stdout",
     "output_type": "stream",
     "text": [
      "Show the statistical analysis of discount prices:\n",
      "count       960.00\n",
      "mean      56030.32\n",
      "std       33527.08\n",
      "min           0.00\n",
      "25%       35990.00\n",
      "50%       48745.00\n",
      "75%       67115.00\n",
      "max      439990.00\n",
      "Name: Discount price, dtype: float64\n"
     ]
    },
    {
     "data": {
      "image/png": "[encoded data removed]",
      "text/plain": [
       "<Figure size 1000x600 with 1 Axes>"
      ]
     },
     "metadata": {},
     "output_type": "display_data"
    }
   ],
   "source": [
    "\"\"\"Show the statistical analysis of discount prices\"\"\"\n",
    "\n",
    "print(f\"Show the statistical analysis of discount prices:\\n{np.round(df['Discount price'].describe(),decimals=2)}\")\n",
    "\n",
    "# Plot histogram\n",
    "plt.figure(figsize=(10, 6))\n",
    "plt.hist(df['Discount price'], bins=20, edgecolor='black', alpha=0.7,label='Discount Prices')\n",
    "plt.title('Distribution of Discount Prices')\n",
    "plt.xlabel('Discount Price (₹)')\n",
    "plt.ylabel('Frequency')\n",
    "plt.legend()\n",
    "plt.show()"
   ]
  },
  {
   "cell_type": "code",
   "execution_count": 12,
   "metadata": {},
   "outputs": [
    {
     "name": "stdout",
     "output_type": "stream",
     "text": [
      "Show how many product having :\n",
      "\tPoor Rating (1-2): 150\n",
      "\tAverage Rating (2-3): 9\n",
      "\tGood Rating (3-4): 161\n",
      "\tExcellent Rating (4-5): 640\n"
     ]
    }
   ],
   "source": [
    "\"\"\"Show how many product having poor rating(1-2), Average rating (2-3), Good rating (3-4) and Excellent rating (4-5).\"\"\"\n",
    "\n",
    "poorRating = df[df['Stars'] < 2].count()\n",
    "averageRating = df[(df['Stars'] >= 2 ) & (df['Stars'] < 3)].count()\n",
    "goodRating = df[(df['Stars'] >= 3 ) & (df['Stars'] < 4)].count()\n",
    "excellentRating = df[(df['Stars'] >= 4 ) & (df['Stars'] <= 5)].count()\n",
    "\n",
    "print(f\"Show how many product having :\")\n",
    "print(f\"\\tPoor Rating (1-2): {poorRating['Product Name']}\")\n",
    "print(f\"\\tAverage Rating (2-3): {averageRating['Product Name']}\")\n",
    "print(f\"\\tGood Rating (3-4): {goodRating['Product Name']}\")\n",
    "print(f\"\\tExcellent Rating (4-5): {excellentRating['Product Name']}\")\n"
   ]
  },
  {
   "cell_type": "markdown",
   "metadata": {},
   "source": [
    "### Question - 2"
   ]
  },
  {
   "cell_type": "code",
   "execution_count": 13,
   "metadata": {},
   "outputs": [
    {
     "data": {
      "text/plain": [
       "(7394, 12)"
      ]
     },
     "execution_count": 13,
     "metadata": {},
     "output_type": "execute_result"
    }
   ],
   "source": [
    "result = pd.read_csv(\"./dataset/olympic/Olympic_Results.csv\")\n",
    "result.shape"
   ]
  },
  {
   "cell_type": "code",
   "execution_count": 14,
   "metadata": {},
   "outputs": [
    {
     "name": "stdout",
     "output_type": "stream",
     "text": [
      "<class 'pandas.core.frame.DataFrame'>\n",
      "RangeIndex: 7394 entries, 0 to 7393\n",
      "Data columns (total 12 columns):\n",
      " #   Column               Non-Null Count  Dtype \n",
      "---  ------               --------------  ----- \n",
      " 0   result_id            7394 non-null   int64 \n",
      " 1   event_title          7394 non-null   object\n",
      " 2   edition              7394 non-null   object\n",
      " 3   edition_id           7394 non-null   int64 \n",
      " 4   sport                7394 non-null   object\n",
      " 5   sport_url            7394 non-null   object\n",
      " 6   result_date          7394 non-null   object\n",
      " 7   result_location      7393 non-null   object\n",
      " 8   result_participants  7394 non-null   object\n",
      " 9   result_format        7394 non-null   object\n",
      " 10  result_detail        7394 non-null   object\n",
      " 11  result_description   7394 non-null   object\n",
      "dtypes: int64(2), object(10)\n",
      "memory usage: 693.3+ KB\n"
     ]
    }
   ],
   "source": [
    "result.info()"
   ]
  },
  {
   "cell_type": "code",
   "execution_count": 15,
   "metadata": {},
   "outputs": [
    {
     "data": {
      "text/plain": [
       "(7393, 12)"
      ]
     },
     "execution_count": 15,
     "metadata": {},
     "output_type": "execute_result"
    }
   ],
   "source": [
    "# Remove a row if any value is missing\n",
    "result = result.dropna()\n",
    "result.shape"
   ]
  },
  {
   "cell_type": "code",
   "execution_count": 16,
   "metadata": {},
   "outputs": [
    {
     "data": {
      "text/plain": [
       "(368, 12)"
      ]
     },
     "execution_count": 16,
     "metadata": {},
     "output_type": "execute_result"
    }
   ],
   "source": [
    "# Drop Row if it contains `na` in columns `result_format`, `result_detail` and `result_description`\n",
    "for i in ['result_format','result_detail','result_description']:\n",
    "    result = result[result[i] != 'na']\n",
    "result.shape"
   ]
  },
  {
   "cell_type": "code",
   "execution_count": 17,
   "metadata": {},
   "outputs": [
    {
     "name": "stdout",
     "output_type": "stream",
     "text": [
      "Before Drop: Index(['result_id', 'event_title', 'edition', 'edition_id', 'sport',\n",
      "       'sport_url', 'result_date', 'result_location', 'result_participants',\n",
      "       'result_format', 'result_detail', 'result_description'],\n",
      "      dtype='object')\n",
      "\n",
      "After Drop: Index(['result_id', 'event_title', 'sport', 'result_date', 'result_location',\n",
      "       'result_participants', 'result_format', 'result_detail',\n",
      "       'result_description'],\n",
      "      dtype='object')\n"
     ]
    }
   ],
   "source": [
    "# Drop Column that we don't required `sport_url`, `edition` and `edition_id`\n",
    "print(f\"Before Drop: {result.columns}\")\n",
    "result = result.drop(columns=['sport_url','edition','edition_id'])\n",
    "print(f\"\\nAfter Drop: {result.columns}\")"
   ]
  },
  {
   "cell_type": "code",
   "execution_count": 18,
   "metadata": {},
   "outputs": [
    {
     "data": {
      "text/plain": [
       "(67, 9)"
      ]
     },
     "execution_count": 18,
     "metadata": {},
     "output_type": "execute_result"
    }
   ],
   "source": [
    "result = result.drop_duplicates(subset='event_title',keep='first')\n",
    "result.shape"
   ]
  },
  {
   "cell_type": "code",
   "execution_count": 26,
   "metadata": {},
   "outputs": [
    {
     "name": "stdout",
     "output_type": "stream",
     "text": [
      "Before sorting:\n",
      "1213      6\n",
      "5908     46\n",
      "5909     54\n",
      "2        76\n",
      "1620    154\n",
      "Name: result_id, dtype: int64\n"
     ]
    },
    {
     "data": {
      "text/html": [
       "<div>\n",
       "<style scoped>\n",
       "    .dataframe tbody tr th:only-of-type {\n",
       "        vertical-align: middle;\n",
       "    }\n",
       "\n",
       "    .dataframe tbody tr th {\n",
       "        vertical-align: top;\n",
       "    }\n",
       "\n",
       "    .dataframe thead th {\n",
       "        text-align: right;\n",
       "    }\n",
       "</style>\n",
       "<table border=\"1\" class=\"dataframe\">\n",
       "  <thead>\n",
       "    <tr style=\"text-align: right;\">\n",
       "      <th></th>\n",
       "      <th>result_id</th>\n",
       "      <th>event_title</th>\n",
       "      <th>sport</th>\n",
       "      <th>result_date</th>\n",
       "      <th>result_location</th>\n",
       "      <th>result_participants</th>\n",
       "      <th>result_format</th>\n",
       "      <th>result_detail</th>\n",
       "      <th>result_description</th>\n",
       "    </tr>\n",
       "  </thead>\n",
       "  <tbody>\n",
       "    <tr>\n",
       "      <th>1213</th>\n",
       "      <td>6</td>\n",
       "      <td>Skeleton, Men</td>\n",
       "      <td>Skeleton</td>\n",
       "      <td>3 –  4 February 1948</td>\n",
       "      <td>Cresta Run, St. Moritz / Celerina</td>\n",
       "      <td>15 from 6 countries</td>\n",
       "      <td>Six runs, total time determined placement. Fir...</td>\n",
       "      <td>Curves: ? / 15Length: 870 m / 1231 mStart Alti...</td>\n",
       "      <td>Twenty years after the first Olympic skeleton ...</td>\n",
       "    </tr>\n",
       "    <tr>\n",
       "      <th>5908</th>\n",
       "      <td>46</td>\n",
       "      <td>Singles, Men1</td>\n",
       "      <td>Luge</td>\n",
       "      <td>11 – 13 February 1968</td>\n",
       "      <td>Piste de Luge, Villard-de-Lans</td>\n",
       "      <td>50 from 14 countries</td>\n",
       "      <td>Three runs, total time determined placement.</td>\n",
       "      <td>Curves: 14Length: 1000 mStart Altitude: 1110 m...</td>\n",
       "      <td>Although the Germans, who dominated the podium...</td>\n",
       "    </tr>\n",
       "    <tr>\n",
       "      <th>5909</th>\n",
       "      <td>54</td>\n",
       "      <td>Singles, Women1</td>\n",
       "      <td>Luge</td>\n",
       "      <td>11 – 13 February 1968</td>\n",
       "      <td>Piste de Luge, Villard-de-Lans</td>\n",
       "      <td>26 from 10 countries</td>\n",
       "      <td>Three runs, total time determined placement.</td>\n",
       "      <td>Curves: ?Length: ?Start Altitude: ?Vertical Dr...</td>\n",
       "      <td>The women’s competition was overshadowed by a ...</td>\n",
       "    </tr>\n",
       "    <tr>\n",
       "      <th>2</th>\n",
       "      <td>76</td>\n",
       "      <td>Singles, Men</td>\n",
       "      <td>Luge</td>\n",
       "      <td>4 –  7 February 1976</td>\n",
       "      <td>Kunsteis-Bob- und Rodelbahn, Igls</td>\n",
       "      <td>43 from 15 countries</td>\n",
       "      <td>Four runs, total time determined placement.</td>\n",
       "      <td>Curves: 14Length: 1220 mStart Altitude: ?Verti...</td>\n",
       "      <td>Once more, the competitors from East and West ...</td>\n",
       "    </tr>\n",
       "    <tr>\n",
       "      <th>1620</th>\n",
       "      <td>154</td>\n",
       "      <td>Singles, Women</td>\n",
       "      <td>Luge</td>\n",
       "      <td>11 – 12 February 1992</td>\n",
       "      <td>Piste de Bobsleigh et Luge, La Plagne</td>\n",
       "      <td>24 from 12 countries</td>\n",
       "      <td>Four runs, total time determined placement.</td>\n",
       "      <td>Curves: 14Length: 1143 mStart Altitude: 1652 m...</td>\n",
       "      <td>German sliders had continued to dominate the w...</td>\n",
       "    </tr>\n",
       "  </tbody>\n",
       "</table>\n",
       "</div>"
      ],
      "text/plain": [
       "      result_id      event_title     sport            result_date  \\\n",
       "1213          6    Skeleton, Men  Skeleton   3 –  4 February 1948   \n",
       "5908         46    Singles, Men1      Luge  11 – 13 February 1968   \n",
       "5909         54  Singles, Women1      Luge  11 – 13 February 1968   \n",
       "2            76     Singles, Men      Luge   4 –  7 February 1976   \n",
       "1620        154   Singles, Women      Luge  11 – 12 February 1992   \n",
       "\n",
       "                            result_location   result_participants  \\\n",
       "1213      Cresta Run, St. Moritz / Celerina   15 from 6 countries   \n",
       "5908         Piste de Luge, Villard-de-Lans  50 from 14 countries   \n",
       "5909         Piste de Luge, Villard-de-Lans  26 from 10 countries   \n",
       "2         Kunsteis-Bob- und Rodelbahn, Igls  43 from 15 countries   \n",
       "1620  Piste de Bobsleigh et Luge, La Plagne  24 from 12 countries   \n",
       "\n",
       "                                          result_format  \\\n",
       "1213  Six runs, total time determined placement. Fir...   \n",
       "5908       Three runs, total time determined placement.   \n",
       "5909       Three runs, total time determined placement.   \n",
       "2           Four runs, total time determined placement.   \n",
       "1620        Four runs, total time determined placement.   \n",
       "\n",
       "                                          result_detail  \\\n",
       "1213  Curves: ? / 15Length: 870 m / 1231 mStart Alti...   \n",
       "5908  Curves: 14Length: 1000 mStart Altitude: 1110 m...   \n",
       "5909  Curves: ?Length: ?Start Altitude: ?Vertical Dr...   \n",
       "2     Curves: 14Length: 1220 mStart Altitude: ?Verti...   \n",
       "1620  Curves: 14Length: 1143 mStart Altitude: 1652 m...   \n",
       "\n",
       "                                     result_description  \n",
       "1213  Twenty years after the first Olympic skeleton ...  \n",
       "5908  Although the Germans, who dominated the podium...  \n",
       "5909  The women’s competition was overshadowed by a ...  \n",
       "2     Once more, the competitors from East and West ...  \n",
       "1620  German sliders had continued to dominate the w...  "
      ]
     },
     "execution_count": 26,
     "metadata": {},
     "output_type": "execute_result"
    }
   ],
   "source": [
    "# Sort in ascending order\n",
    "print(f\"Before sorting:\\n{result['result_id'].head()}\")\n",
    "result = result.sort_values(by='result_id')\n",
    "result.head()"
   ]
  },
  {
   "cell_type": "code",
   "execution_count": 20,
   "metadata": {},
   "outputs": [
    {
     "name": "stdout",
     "output_type": "stream",
     "text": [
      "(1807, 9)\n"
     ]
    },
    {
     "data": {
      "text/plain": [
       "Index(['edition', 'edition_id', 'year', 'country', 'country_noc', 'gold',\n",
       "       'silver', 'bronze', 'total'],\n",
       "      dtype='object')"
      ]
     },
     "execution_count": 20,
     "metadata": {},
     "output_type": "execute_result"
    }
   ],
   "source": [
    "medal = pd.read_csv(\"./dataset/olympic/Olympic_Games_Medal_Tally.csv\")\n",
    "print(medal.shape)\n",
    "medal.columns"
   ]
  },
  {
   "cell_type": "code",
   "execution_count": 21,
   "metadata": {},
   "outputs": [
    {
     "data": {
      "text/plain": [
       "(122, 9)"
      ]
     },
     "execution_count": 21,
     "metadata": {},
     "output_type": "execute_result"
    }
   ],
   "source": [
    "\"\"\"Medal list after 2020\"\"\"\n",
    "medal = medal[medal.year >= 2020]\n",
    "medal.shape"
   ]
  },
  {
   "cell_type": "code",
   "execution_count": 22,
   "metadata": {},
   "outputs": [
    {
     "data": {
      "image/png": "[encoded data removed]",
      "text/plain": [
       "<Figure size 640x480 with 1 Axes>"
      ]
     },
     "metadata": {},
     "output_type": "display_data"
    },
    {
     "data": {
      "image/png": "[encoded data removed]",
      "text/plain": [
       "<Figure size 640x480 with 1 Axes>"
      ]
     },
     "metadata": {},
     "output_type": "display_data"
    },
    {
     "data": {
      "image/png": "[encoded data removed]",
      "text/plain": [
       "<Figure size 640x480 with 1 Axes>"
      ]
     },
     "metadata": {},
     "output_type": "display_data"
    },
    {
     "data": {
      "image/png": "[encoded data removed]",
      "text/plain": [
       "<Figure size 640x480 with 1 Axes>"
      ]
     },
     "metadata": {},
     "output_type": "display_data"
    }
   ],
   "source": [
    "\"\"\"Total Medal win by the top 5 country\"\"\"\n",
    "medal = medal[medal.year == 2022]\n",
    "total = medal.sort_values(by='total',ascending=False)\n",
    "gold = medal.sort_values(by='gold',ascending=False)\n",
    "silver = medal.sort_values(by='silver',ascending=False)\n",
    "bronze = medal.sort_values(by='bronze',ascending=False)\n",
    "\n",
    "for i in [(total,\"Total\"),(gold,\"Gold\"),(silver,\"Silver\"),(bronze,\"Bronze\")]:\n",
    "    x = i[0].head(5)['country'].tolist()\n",
    "    y = i[0].head(5)['total'].tolist()\n",
    "    plt.title(f\"{i[1]} medal in 2022\")\n",
    "    plt.bar(x,y)\n",
    "    plt.xlabel(\"Country\")\n",
    "    plt.ylabel(\"No. of Medal\")\n",
    "    plt.show()"
   ]
  }
 ],
 "metadata": {
  "kernelspec": {
   "display_name": "python-conda",
   "language": "python",
   "name": "python3"
  },
  "language_info": {
   "codemirror_mode": {
    "name": "ipython",
    "version": 3
   },
   "file_extension": ".py",
   "mimetype": "text/x-python",
   "name": "python",
   "nbconvert_exporter": "python",
   "pygments_lexer": "ipython3",
   "version": "3.9.20"
  }
 },
 "nbformat": 4,
 "nbformat_minor": 4
}
