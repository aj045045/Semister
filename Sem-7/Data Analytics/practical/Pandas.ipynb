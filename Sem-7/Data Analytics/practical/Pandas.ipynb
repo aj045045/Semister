{
 "cells": [
  {
   "cell_type": "markdown",
   "id": "fda32b99",
   "metadata": {},
   "source": [
    "# Imports \n",
    "- Padas means Panel Data\n",
    "- Numpy means Numberic in python"
   ]
  },
  {
   "cell_type": "code",
   "execution_count": 2,
   "id": "8ece042d",
   "metadata": {},
   "outputs": [],
   "source": [
    "import pandas as pd\n",
    "import numpy as np"
   ]
  },
  {
   "cell_type": "markdown",
   "id": "72fb4d58",
   "metadata": {},
   "source": [
    "### Three type of data ploting\n",
    "- Series\n",
    "- Dataframe\n",
    "- Panels"
   ]
  },
  {
   "cell_type": "code",
   "execution_count": 3,
   "id": "6ba443ba",
   "metadata": {},
   "outputs": [
    {
     "data": {
      "text/plain": [
       "3    [10, 20]\n",
       "4    [30, 40]\n",
       "5    [50, 60]\n",
       "dtype: object"
      ]
     },
     "execution_count": 3,
     "metadata": {},
     "output_type": "execute_result"
    }
   ],
   "source": [
    "pd.Series([[10,20],[30,40],[50,60]],index=[3,4,5])"
   ]
  },
  {
   "cell_type": "code",
   "execution_count": 4,
   "id": "3c56e29e",
   "metadata": {},
   "outputs": [
    {
     "data": {
      "text/plain": [
       "India    NewDelhi\n",
       "UK         London\n",
       "Japan       Tokyo\n",
       "dtype: object"
      ]
     },
     "execution_count": 4,
     "metadata": {},
     "output_type": "execute_result"
    }
   ],
   "source": [
    "pdDict = {'India': 'NewDelhi', 'UK': 'London', 'Japan': 'Tokyo'}\n",
    "pd.Series(pdDict)"
   ]
  },
  {
   "cell_type": "code",
   "execution_count": 5,
   "id": "f7b948f8",
   "metadata": {},
   "outputs": [
    {
     "name": "stdout",
     "output_type": "stream",
     "text": [
      "NewDelhi NewDelhi \n",
      "\n",
      "France     Paris\n",
      "UK        London\n",
      "dtype: object \n",
      "\n"
     ]
    },
    {
     "name": "stderr",
     "output_type": "stream",
     "text": [
      "/tmp/ipykernel_7426/906043541.py:2: FutureWarning: Series.__getitem__ treating keys as positions is deprecated. In a future version, integer keys will always be treated as labels (consistent with DataFrame behavior). To access a value by position, use `ser.iloc[pos]`\n",
      "  print(seriesCapCntry['India'],seriesCapCntry[0],\"\\n\")\n",
      "/tmp/ipykernel_7426/906043541.py:3: FutureWarning: Series.__getitem__ treating keys as positions is deprecated. In a future version, integer keys will always be treated as labels (consistent with DataFrame behavior). To access a value by position, use `ser.iloc[pos]`\n",
      "  print(seriesCapCntry[[3,2]],\"\\n\")\n"
     ]
    }
   ],
   "source": [
    "seriesCapCntry = pd.Series(['NewDelhi','WashingtonDC','London','Paris'],index=['India','USA','UK','France'])\n",
    "print(seriesCapCntry['India'],seriesCapCntry[0],\"\\n\")\n",
    "print(seriesCapCntry[[3,2]],\"\\n\")"
   ]
  },
  {
   "cell_type": "code",
   "execution_count": 6,
   "id": "aba4e583",
   "metadata": {},
   "outputs": [
    {
     "name": "stdout",
     "output_type": "stream",
     "text": [
      "USA       WashingtonDC\n",
      "UK              London\n",
      "France           Paris\n",
      "dtype: object \n",
      "\n",
      "USA       WashingtonDC\n",
      "UK              London\n",
      "France           Paris\n",
      "dtype: object \n",
      "\n",
      "France           Paris\n",
      "UK              London\n",
      "USA       WashingtonDC\n",
      "India         NewDelhi\n",
      "dtype: object \n",
      "\n"
     ]
    }
   ],
   "source": [
    "print(seriesCapCntry[1:4],\"\\n\")\n",
    "print(seriesCapCntry['USA':'France'],\"\\n\")\n",
    "print(seriesCapCntry[::-1],\"\\n\")"
   ]
  },
  {
   "cell_type": "markdown",
   "id": "dfbcbc57",
   "metadata": {},
   "source": [
    "## Question 5"
   ]
  },
  {
   "cell_type": "code",
   "execution_count": 7,
   "id": "ee5af846",
   "metadata": {},
   "outputs": [
    {
     "name": "stdout",
     "output_type": "stream",
     "text": [
      "Question A :\n",
      "0     a\n",
      "1     b\n",
      "2     c\n",
      "3     d\n",
      "4     e\n",
      "5     f\n",
      "6     g\n",
      "7     h\n",
      "8     i\n",
      "9     j\n",
      "10    k\n",
      "11    l\n",
      "12    m\n",
      "13    n\n",
      "14    o\n",
      "15    p\n",
      "16    q\n",
      "17    r\n",
      "18    s\n",
      "19    t\n",
      "20    u\n",
      "21    v\n",
      "22    w\n",
      "23    x\n",
      "24    y\n",
      "25    z\n",
      "dtype: object\n",
      "\n",
      "Question B :\n",
      "a    0\n",
      "e    0\n",
      "i    0\n",
      "o    0\n",
      "u    0\n",
      "dtype: int64\n",
      "\n",
      "Question C :\n",
      "ansh      36\n",
      "ankit     35\n",
      "tej        8\n",
      "trupal    14\n",
      "hiren     34\n",
      "dtype: int64\n",
      "\n",
      "Question D :\n",
      "False\n",
      "\n",
      "Question E :\n",
      "1     31\n",
      "2     28\n",
      "3     31\n",
      "4     30\n",
      "5     31\n",
      "6     30\n",
      "7     31\n",
      "8     30\n",
      "9     31\n",
      "10    30\n",
      "11    31\n",
      "12    30\n",
      "dtype: int64\n"
     ]
    }
   ],
   "source": [
    "print(f\"Question A :\\n{pd.Series(['a','b','c','d','e','f','g','h','i','j','k','l','m','n','o','p','q','r','s','t','u','v','w','x','y','z'])}\")\n",
    "\n",
    "print(f\"\\nQuestion B :\\n{pd.Series([0,0,0,0,0],index=['a','e','i','o','u'])}\")\n",
    "\n",
    "print(f\"\\nQuestion C :\\n{pd.Series({'ansh':36,'ankit':35,'tej':8,'trupal':14,'hiren':34})}\")\n",
    "\n",
    "print(f\"\\nQuestion D :\\n{pd.Series([0,0,0,0,0],index=['a','e','i','o','u']).empty}\")\n",
    "\n",
    "print(f\"\\nQuestion E :\\n{pd.Series(np.array([31,28,31,30,31,30,31,30,31,30,31,30]),index=range(1,13))}\")"
   ]
  },
  {
   "cell_type": "markdown",
   "id": "8f1b80e6",
   "metadata": {},
   "source": [
    "## Question 6"
   ]
  },
  {
   "cell_type": "code",
   "execution_count": 8,
   "id": "0ec00e52",
   "metadata": {},
   "outputs": [
    {
     "name": "stdout",
     "output_type": "stream",
     "text": [
      "\n",
      "Question A :\n",
      "a    10\n",
      "e    10\n",
      "i    10\n",
      "o    10\n",
      "u    10\n",
      "dtype: int64\n",
      "\n",
      "Question B :\n",
      "a    5.0\n",
      "e    5.0\n",
      "i    5.0\n",
      "o    5.0\n",
      "u    5.0\n",
      "dtype: float64\n",
      "\n",
      "Question C :\n",
      "a    2\n",
      "e    5\n",
      "i    6\n",
      "o    3\n",
      "u    8\n",
      "dtype: int64\n",
      "\n",
      "Question D :\n",
      "a    12\n",
      "e    15\n",
      "i    16\n",
      "o    13\n",
      "u    18\n",
      "dtype: int64\n",
      "\n",
      "Question E :\n",
      "Subtract\n",
      "a    8\n",
      "e    5\n",
      "i    4\n",
      "o    7\n",
      "u    2\n",
      "dtype: int64\n",
      "Multiply\n",
      "a    20\n",
      "e    50\n",
      "i    60\n",
      "o    30\n",
      "u    80\n",
      "dtype: int64\n",
      "Divide\n",
      "a    5.000000\n",
      "e    2.000000\n",
      "i    1.666667\n",
      "o    3.333333\n",
      "u    1.250000\n",
      "dtype: float64\n",
      "\n",
      "Question F :\n",
      "A    2\n",
      "E    5\n",
      "I    6\n",
      "O    3\n",
      "U    8\n",
      "dtype: int64\n"
     ]
    }
   ],
   "source": [
    "vowels = pd.Series([0,0,0,0,0],index=['a','e','i','o','u'])\n",
    "\n",
    "vowels['a':'u']=10\n",
    "print(f\"\\nQuestion A :\\n{vowels}\")\n",
    "\n",
    "print(f\"\\nQuestion B :\\n{vowels/2}\")\n",
    "\n",
    "vowels1 = vowels.copy()\n",
    "vowels1['a':'u'] = 2,5,6,3,8\n",
    "print(f\"\\nQuestion C :\\n{vowels1}\")\n",
    "\n",
    "vowels3 = vowels + vowels1\n",
    "print(f\"\\nQuestion D :\\n{vowels3}\")\n",
    "\n",
    "print(f\"\\nQuestion E :\\nSubtract\\n{vowels-vowels1}\\nMultiply\\n{vowels*vowels1}\\nDivide\\n{vowels/vowels1}\")\n",
    "\n",
    "vowels1.index = 'A','E','I','O','U'\n",
    "print(f\"\\nQuestion F :\\n{vowels1}\")"
   ]
  },
  {
   "cell_type": "markdown",
   "id": "3f3b3975",
   "metadata": {},
   "source": [
    "## Question 7"
   ]
  },
  {
   "cell_type": "code",
   "execution_count": 9,
   "id": "ed5da1aa",
   "metadata": {},
   "outputs": [
    {
     "name": "stdout",
     "output_type": "stream",
     "text": [
      "\n",
      "Question A :\n",
      "1\n",
      "\n",
      "Question B :\n",
      "a    10\n",
      "e    10\n",
      "i    10\n",
      "o    10\n",
      "u    10\n",
      "Name: Vowels, dtype: int64\n",
      "\n",
      "Question C :\n",
      "Students\n",
      "ansh      36\n",
      "ankit     35\n",
      "tej        8\n",
      "trupal    14\n",
      "hiren     34\n",
      "dtype: int64\n",
      "\n",
      "Months\n",
      "1     31\n",
      "2     28\n",
      "3     31\n",
      "4     30\n",
      "5     31\n",
      "6     30\n",
      "7     31\n",
      "8     30\n",
      "9     31\n",
      "10    30\n",
      "11    31\n",
      "12    30\n",
      "dtype: int64\n",
      "\n",
      "Question D :\n",
      "Students\n",
      "ankit    35\n",
      "tej       8\n",
      "dtype: int64\n",
      "\n",
      "Question E :\n",
      "4     e\n",
      "5     f\n",
      "6     g\n",
      "7     h\n",
      "8     i\n",
      "9     j\n",
      "10    k\n",
      "11    l\n",
      "12    m\n",
      "13    n\n",
      "14    o\n",
      "15    p\n",
      "dtype: object\n",
      "\n",
      "Question F :\n",
      "0     a\n",
      "1     b\n",
      "2     c\n",
      "3     d\n",
      "4     e\n",
      "5     f\n",
      "6     g\n",
      "7     h\n",
      "8     i\n",
      "9     j\n",
      "10    k\n",
      "dtype: object\n",
      "\n",
      "Question G :\n",
      "25    z\n",
      "24    y\n",
      "23    x\n",
      "22    w\n",
      "21    v\n",
      "20    u\n",
      "19    t\n",
      "18    s\n",
      "17    r\n",
      "16    q\n",
      "dtype: object\n"
     ]
    }
   ],
   "source": [
    "print(f\"\\nQuestion A :\\n{vowels.ndim}\")\n",
    "\n",
    "vowels.name = \"Vowels\"\n",
    "print(f\"\\nQuestion B :\\n{vowels}\")\n",
    "\n",
    "Friends = pd.Series({'ansh':36,'ankit':35,'tej':8,'trupal':14,'hiren':34})\n",
    "MonthDays = pd.Series(np.array([31,28,31,30,31,30,31,30,31,30,31,30]),index=range(1,13))\n",
    "Friends.index.name = \"Students\"\n",
    "MonthDays.index.name = \"Months\"\n",
    "print(f\"\\nQuestion C :\\n{Friends}\\n\\n{MonthDays}\")\n",
    "\n",
    "print(f\"\\nQuestion D :\\n{Friends[1:3]}\")\n",
    "\n",
    "EngAlh = pd.Series(['a','b','c','d','e','f','g','h','i','j','k','l','m','n','o','p','q','r','s','t','u','v','w','x','y','z'])\n",
    "print(f\"\\nQuestion E :\\n{EngAlh[4:-10]}\")\n",
    "\n",
    "print(f\"\\nQuestion F :\\n{EngAlh[:11]}\")\n",
    "\n",
    "print(f\"\\nQuestion G :\\n{EngAlh[:-11:-1]}\")"
   ]
  },
  {
   "cell_type": "markdown",
   "id": "eb41a1d1",
   "metadata": {},
   "source": [
    "## Question 8"
   ]
  },
  {
   "cell_type": "code",
   "execution_count": 10,
   "id": "ff750ac1",
   "metadata": {},
   "outputs": [
    {
     "name": "stdout",
     "output_type": "stream",
     "text": [
      "\n",
      "Question A :\n",
      "\n",
      "\n",
      "Question B :\n",
      "Months\n",
      "12    30\n",
      "11    31\n",
      "10    30\n",
      "9     31\n",
      "8     30\n",
      "7     31\n",
      "6     30\n",
      "5     31\n",
      "4     30\n",
      "3     31\n",
      "2     28\n",
      "1     31\n",
      "dtype: int64\n",
      "\n",
      "Question  :\n",
      "\n"
     ]
    }
   ],
   "source": [
    "print(f\"\\nQuestion A :\\n\")\n",
    "print(f\"\\nQuestion B :\\n{MonthDays[::-1]}\")\n",
    "print(f\"\\nQuestion  :\\n\")"
   ]
  },
  {
   "cell_type": "markdown",
   "id": "9f9709c2",
   "metadata": {},
   "source": [
    "## Question 9"
   ]
  },
  {
   "cell_type": "code",
   "execution_count": 11,
   "id": "0dd00e14",
   "metadata": {},
   "outputs": [
    {
     "name": "stdout",
     "output_type": "stream",
     "text": [
      "            2014     2015     2016   2017    2018\n",
      "Kusum      100.5    150.8    200.9  30000   40000\n",
      "Kinshuk  12000.0  18000.0  22000.0  30000   45000\n",
      "Ankit     2000.0  50000.0  70000.0  10000  125000\n",
      "Shruti   50000.0  60000.0  70000.0  80000   90000\n"
     ]
    }
   ],
   "source": [
    "listVal = {\n",
    "'2014': pd.Series([100.5,12000,2000,50000],index=['Kusum','Kinshuk','Ankit','Shruti']),\n",
    "'2015': pd.Series([150.8,18000,50000,60000],index=['Kusum','Kinshuk','Ankit','Shruti']),\n",
    "'2016': pd.Series([200.9,22000,70000,70000],index=['Kusum','Kinshuk','Ankit','Shruti']),\n",
    "'2017': pd.Series([30000,30000,10000,80000],index=['Kusum','Kinshuk','Ankit','Shruti']),\n",
    "'2018': pd.Series([40000,45000,125000,90000],index=['Kusum','Kinshuk','Ankit','Shruti'])    \n",
    "}\n",
    "listVal = pd.DataFrame(listVal)\n",
    "print(listVal)"
   ]
  },
  {
   "cell_type": "code",
   "execution_count": 12,
   "id": "a5121341",
   "metadata": {},
   "outputs": [
    {
     "name": "stdout",
     "output_type": "stream",
     "text": [
      "   Vowels\n",
      "a      10\n",
      "e      10\n",
      "i      10\n",
      "o      10\n",
      "u      10\n",
      "\n",
      "     a   b     c     d     e\n",
      "1  10  20   NaN   NaN   NaN\n",
      "2   5  10  20.0   NaN   NaN\n",
      "3   5  10  20.0  60.0   NaN\n",
      "4   5  10  20.0  80.0  90.0\n"
     ]
    }
   ],
   "source": [
    "dFrameEmt = pd.DataFrame(vowels)\n",
    "print(dFrameEmt)\n",
    "\n",
    "listDict = [{'a':10,'b':20},{'a':5,'b':10,'c':20},{'a':5,'b':10,'c':20,'d':60},{'a':5,'b':10,'c':20,'d':80,'e':90}]\n",
    "dFrameEmt = pd.DataFrame(listDict,index=range(1,len(listDict)+1))\n",
    "print(\"\\n\",dFrameEmt)"
   ]
  },
  {
   "cell_type": "code",
   "execution_count": 13,
   "id": "4e517607",
   "metadata": {},
   "outputs": [
    {
     "data": {
      "text/html": [
       "<div>\n",
       "<style scoped>\n",
       "    .dataframe tbody tr th:only-of-type {\n",
       "        vertical-align: middle;\n",
       "    }\n",
       "\n",
       "    .dataframe tbody tr th {\n",
       "        vertical-align: top;\n",
       "    }\n",
       "\n",
       "    .dataframe thead th {\n",
       "        text-align: right;\n",
       "    }\n",
       "</style>\n",
       "<table border=\"1\" class=\"dataframe\">\n",
       "  <thead>\n",
       "    <tr style=\"text-align: right;\">\n",
       "      <th></th>\n",
       "      <th>a</th>\n",
       "      <th>b</th>\n",
       "      <th>c</th>\n",
       "      <th>d</th>\n",
       "    </tr>\n",
       "  </thead>\n",
       "  <tbody>\n",
       "    <tr>\n",
       "      <th>0</th>\n",
       "      <td>10</td>\n",
       "      <td>20</td>\n",
       "      <td>NaN</td>\n",
       "      <td>NaN</td>\n",
       "    </tr>\n",
       "    <tr>\n",
       "      <th>1</th>\n",
       "      <td>5</td>\n",
       "      <td>10</td>\n",
       "      <td>20.0</td>\n",
       "      <td>NaN</td>\n",
       "    </tr>\n",
       "    <tr>\n",
       "      <th>2</th>\n",
       "      <td>5</td>\n",
       "      <td>10</td>\n",
       "      <td>20.0</td>\n",
       "      <td>60.0</td>\n",
       "    </tr>\n",
       "  </tbody>\n",
       "</table>\n",
       "</div>"
      ],
      "text/plain": [
       "    a   b     c     d\n",
       "0  10  20   NaN   NaN\n",
       "1   5  10  20.0   NaN\n",
       "2   5  10  20.0  60.0"
      ]
     },
     "execution_count": 13,
     "metadata": {},
     "output_type": "execute_result"
    }
   ],
   "source": [
    "listDict = [{'a':10,'b':20},{'a':5,'b':10,'c':20},{'a':5,'b':10,'c':20,'d':60}]\n",
    "pd.DataFrame(listDict)"
   ]
  },
  {
   "cell_type": "code",
   "execution_count": 14,
   "id": "27dd0acd",
   "metadata": {},
   "outputs": [
    {
     "data": {
      "text/html": [
       "<div>\n",
       "<style scoped>\n",
       "    .dataframe tbody tr th:only-of-type {\n",
       "        vertical-align: middle;\n",
       "    }\n",
       "\n",
       "    .dataframe tbody tr th {\n",
       "        vertical-align: top;\n",
       "    }\n",
       "\n",
       "    .dataframe thead th {\n",
       "        text-align: right;\n",
       "    }\n",
       "</style>\n",
       "<table border=\"1\" class=\"dataframe\">\n",
       "  <thead>\n",
       "    <tr style=\"text-align: right;\">\n",
       "      <th></th>\n",
       "      <th>State</th>\n",
       "      <th>GArea</th>\n",
       "    </tr>\n",
       "  </thead>\n",
       "  <tbody>\n",
       "    <tr>\n",
       "      <th>0</th>\n",
       "      <td>Assam</td>\n",
       "      <td>345</td>\n",
       "    </tr>\n",
       "    <tr>\n",
       "      <th>1</th>\n",
       "      <td>Delhi</td>\n",
       "      <td>3453</td>\n",
       "    </tr>\n",
       "    <tr>\n",
       "      <th>2</th>\n",
       "      <td>Kerala</td>\n",
       "      <td>5464</td>\n",
       "    </tr>\n",
       "  </tbody>\n",
       "</table>\n",
       "</div>"
      ],
      "text/plain": [
       "    State  GArea\n",
       "0   Assam    345\n",
       "1   Delhi   3453\n",
       "2  Kerala   5464"
      ]
     },
     "execution_count": 14,
     "metadata": {},
     "output_type": "execute_result"
    }
   ],
   "source": [
    "dictForect = {'State':['Assam','Delhi','Kerala']\n",
    "             ,'GArea':[345,3453,5464]}\n",
    "pd.DataFrame(dictForect)"
   ]
  },
  {
   "cell_type": "code",
   "execution_count": 15,
   "id": "4e0b3771",
   "metadata": {
    "scrolled": false
   },
   "outputs": [
    {
     "name": "stdout",
     "output_type": "stream",
     "text": [
      "         Arnab  Vishal  Ankit  Harsh    Tej\n",
      "English   12.0   234.0   34.0  456.0    NaN\n",
      "Maths     43.0   345.0   12.0  456.0    NaN\n",
      "OOC        NaN     NaN    NaN    NaN   67.0\n",
      "OOCP       NaN     NaN    NaN    NaN  345.0\n",
      "OS        45.0     NaN   45.0   45.0   45.0\n",
      "PPT        NaN     NaN    NaN    NaN   56.0\n",
      "Science   23.0   132.0   23.0  234.0    NaN\n",
      "VR        12.0    34.0   45.0   67.0   78.0\n"
     ]
    }
   ],
   "source": [
    "resultSheet = {\n",
    "    'Arnab':pd.Series([43,23,12,45],index=['Maths','Science','English','OS']),\n",
    "    'Vishal':pd.Series([345,132,234],index=['Maths','Science','English']),\n",
    "    'Ankit':pd.Series([12,23,34],index=['Maths','Science','English']),\n",
    "    'Harsh':pd.Series([456,234,456],index=['Maths','Science','English'])\n",
    "}\n",
    "resultSheet['Tej'] = pd.Series([345,56,67,56],index=['OOCP','PPT','OOC','OS'])\n",
    "resultSheet = pd.DataFrame(resultSheet)\n",
    "resultSheet.loc['VR'] =[12,34,45,67,78]\n",
    "resultSheet.loc['OS','Ankit':'Tej'] = 45\n",
    "\n",
    "print(resultSheet)"
   ]
  },
  {
   "cell_type": "code",
   "execution_count": 16,
   "id": "2ecd8a17",
   "metadata": {},
   "outputs": [],
   "source": [
    "resultSheet.drop(\"English\",axis=0,inplace=True)"
   ]
  },
  {
   "cell_type": "code",
   "execution_count": 17,
   "id": "9cece056",
   "metadata": {},
   "outputs": [
    {
     "name": "stdout",
     "output_type": "stream",
     "text": [
      "         Arnab  Vishal  Ankit  Harsh    Tej\n",
      "Sub1      43.0   345.0   12.0  456.0    NaN\n",
      "Sub2       NaN     NaN    NaN    NaN   67.0\n",
      "Sub3       NaN     NaN    NaN    NaN  345.0\n",
      "OS        45.0     NaN   45.0   45.0   45.0\n",
      "PPT        NaN     NaN    NaN    NaN   56.0\n",
      "Science   23.0   132.0   23.0  234.0    NaN\n",
      "VR        12.0    34.0   45.0   67.0   78.0\n"
     ]
    }
   ],
   "source": [
    "resultSheet.rename({'Maths':'Sub1','OOC':'Sub2','OOCP':'Sub3'},axis='index',inplace=True)\n",
    "print(resultSheet)"
   ]
  },
  {
   "cell_type": "code",
   "execution_count": 18,
   "id": "755da050",
   "metadata": {},
   "outputs": [
    {
     "data": {
      "text/html": [
       "<div>\n",
       "<style scoped>\n",
       "    .dataframe tbody tr th:only-of-type {\n",
       "        vertical-align: middle;\n",
       "    }\n",
       "\n",
       "    .dataframe tbody tr th {\n",
       "        vertical-align: top;\n",
       "    }\n",
       "\n",
       "    .dataframe thead th {\n",
       "        text-align: right;\n",
       "    }\n",
       "</style>\n",
       "<table border=\"1\" class=\"dataframe\">\n",
       "  <thead>\n",
       "    <tr style=\"text-align: right;\">\n",
       "      <th></th>\n",
       "      <th>Student1</th>\n",
       "      <th>Student2</th>\n",
       "      <th>Student3</th>\n",
       "      <th>Student4</th>\n",
       "      <th>Student5</th>\n",
       "    </tr>\n",
       "  </thead>\n",
       "  <tbody>\n",
       "    <tr>\n",
       "      <th>Sub1</th>\n",
       "      <td>43.0</td>\n",
       "      <td>345.0</td>\n",
       "      <td>12.0</td>\n",
       "      <td>456.0</td>\n",
       "      <td>NaN</td>\n",
       "    </tr>\n",
       "    <tr>\n",
       "      <th>Sub2</th>\n",
       "      <td>NaN</td>\n",
       "      <td>NaN</td>\n",
       "      <td>NaN</td>\n",
       "      <td>NaN</td>\n",
       "      <td>67.0</td>\n",
       "    </tr>\n",
       "    <tr>\n",
       "      <th>Sub3</th>\n",
       "      <td>NaN</td>\n",
       "      <td>NaN</td>\n",
       "      <td>NaN</td>\n",
       "      <td>NaN</td>\n",
       "      <td>345.0</td>\n",
       "    </tr>\n",
       "    <tr>\n",
       "      <th>OS</th>\n",
       "      <td>45.0</td>\n",
       "      <td>NaN</td>\n",
       "      <td>45.0</td>\n",
       "      <td>45.0</td>\n",
       "      <td>45.0</td>\n",
       "    </tr>\n",
       "    <tr>\n",
       "      <th>PPT</th>\n",
       "      <td>NaN</td>\n",
       "      <td>NaN</td>\n",
       "      <td>NaN</td>\n",
       "      <td>NaN</td>\n",
       "      <td>56.0</td>\n",
       "    </tr>\n",
       "    <tr>\n",
       "      <th>Science</th>\n",
       "      <td>23.0</td>\n",
       "      <td>132.0</td>\n",
       "      <td>23.0</td>\n",
       "      <td>234.0</td>\n",
       "      <td>NaN</td>\n",
       "    </tr>\n",
       "    <tr>\n",
       "      <th>VR</th>\n",
       "      <td>12.0</td>\n",
       "      <td>34.0</td>\n",
       "      <td>45.0</td>\n",
       "      <td>67.0</td>\n",
       "      <td>78.0</td>\n",
       "    </tr>\n",
       "  </tbody>\n",
       "</table>\n",
       "</div>"
      ],
      "text/plain": [
       "         Student1  Student2  Student3  Student4  Student5\n",
       "Sub1         43.0     345.0      12.0     456.0       NaN\n",
       "Sub2          NaN       NaN       NaN       NaN      67.0\n",
       "Sub3          NaN       NaN       NaN       NaN     345.0\n",
       "OS           45.0       NaN      45.0      45.0      45.0\n",
       "PPT           NaN       NaN       NaN       NaN      56.0\n",
       "Science      23.0     132.0      23.0     234.0       NaN\n",
       "VR           12.0      34.0      45.0      67.0      78.0"
      ]
     },
     "execution_count": 18,
     "metadata": {},
     "output_type": "execute_result"
    }
   ],
   "source": [
    "resultSheet.rename({'Arnab':'Student1','Vishal':'Student2','Ankit':'Student3','Harsh':'Student4','Tej':'Student5'},axis='columns')"
   ]
  },
  {
   "cell_type": "code",
   "execution_count": 19,
   "id": "a965eefb",
   "metadata": {},
   "outputs": [
    {
     "data": {
      "text/plain": [
       "np.float64(45.0)"
      ]
     },
     "execution_count": 19,
     "metadata": {},
     "output_type": "execute_result"
    }
   ],
   "source": [
    "resultSheet.loc['OS','Arnab']"
   ]
  },
  {
   "cell_type": "code",
   "execution_count": 20,
   "id": "51b66189",
   "metadata": {},
   "outputs": [
    {
     "data": {
      "text/plain": [
       "Sub1       12.0\n",
       "Sub2        NaN\n",
       "Sub3        NaN\n",
       "OS         45.0\n",
       "PPT         NaN\n",
       "Science    23.0\n",
       "VR         45.0\n",
       "Name: Ankit, dtype: float64"
      ]
     },
     "execution_count": 20,
     "metadata": {},
     "output_type": "execute_result"
    }
   ],
   "source": [
    "resultSheet.loc[:,'Ankit']"
   ]
  },
  {
   "cell_type": "code",
   "execution_count": 21,
   "id": "79b97657",
   "metadata": {},
   "outputs": [
    {
     "data": {
      "text/html": [
       "<div>\n",
       "<style scoped>\n",
       "    .dataframe tbody tr th:only-of-type {\n",
       "        vertical-align: middle;\n",
       "    }\n",
       "\n",
       "    .dataframe tbody tr th {\n",
       "        vertical-align: top;\n",
       "    }\n",
       "\n",
       "    .dataframe thead th {\n",
       "        text-align: right;\n",
       "    }\n",
       "</style>\n",
       "<table border=\"1\" class=\"dataframe\">\n",
       "  <thead>\n",
       "    <tr style=\"text-align: right;\">\n",
       "      <th></th>\n",
       "      <th>Arnab</th>\n",
       "      <th>Vishal</th>\n",
       "      <th>Ankit</th>\n",
       "      <th>Harsh</th>\n",
       "      <th>Tej</th>\n",
       "    </tr>\n",
       "  </thead>\n",
       "  <tbody>\n",
       "    <tr>\n",
       "      <th>Science</th>\n",
       "      <td>23.0</td>\n",
       "      <td>132.0</td>\n",
       "      <td>23.0</td>\n",
       "      <td>234.0</td>\n",
       "      <td>NaN</td>\n",
       "    </tr>\n",
       "    <tr>\n",
       "      <th>VR</th>\n",
       "      <td>12.0</td>\n",
       "      <td>34.0</td>\n",
       "      <td>45.0</td>\n",
       "      <td>67.0</td>\n",
       "      <td>78.0</td>\n",
       "    </tr>\n",
       "  </tbody>\n",
       "</table>\n",
       "</div>"
      ],
      "text/plain": [
       "         Arnab  Vishal  Ankit  Harsh   Tej\n",
       "Science   23.0   132.0   23.0  234.0   NaN\n",
       "VR        12.0    34.0   45.0   67.0  78.0"
      ]
     },
     "execution_count": 21,
     "metadata": {},
     "output_type": "execute_result"
    }
   ],
   "source": [
    "resultSheet.loc[['Science','VR']]"
   ]
  },
  {
   "cell_type": "code",
   "execution_count": 22,
   "id": "ba483107",
   "metadata": {},
   "outputs": [
    {
     "data": {
      "text/plain": [
       "Arnab     False\n",
       "Vishal     True\n",
       "Ankit     False\n",
       "Harsh      True\n",
       "Tej       False\n",
       "Name: Science, dtype: bool"
      ]
     },
     "execution_count": 22,
     "metadata": {},
     "output_type": "execute_result"
    }
   ],
   "source": [
    "resultSheet.loc['Science'] > 50"
   ]
  },
  {
   "cell_type": "code",
   "execution_count": 23,
   "id": "ad127bd7",
   "metadata": {},
   "outputs": [
    {
     "data": {
      "text/html": [
       "<div>\n",
       "<style scoped>\n",
       "    .dataframe tbody tr th:only-of-type {\n",
       "        vertical-align: middle;\n",
       "    }\n",
       "\n",
       "    .dataframe tbody tr th {\n",
       "        vertical-align: top;\n",
       "    }\n",
       "\n",
       "    .dataframe thead th {\n",
       "        text-align: right;\n",
       "    }\n",
       "</style>\n",
       "<table border=\"1\" class=\"dataframe\">\n",
       "  <thead>\n",
       "    <tr style=\"text-align: right;\">\n",
       "      <th></th>\n",
       "      <th>Arnab</th>\n",
       "      <th>Vishal</th>\n",
       "    </tr>\n",
       "  </thead>\n",
       "  <tbody>\n",
       "    <tr>\n",
       "      <th>OS</th>\n",
       "      <td>45.0</td>\n",
       "      <td>NaN</td>\n",
       "    </tr>\n",
       "    <tr>\n",
       "      <th>PPT</th>\n",
       "      <td>NaN</td>\n",
       "      <td>NaN</td>\n",
       "    </tr>\n",
       "    <tr>\n",
       "      <th>Science</th>\n",
       "      <td>23.0</td>\n",
       "      <td>132.0</td>\n",
       "    </tr>\n",
       "    <tr>\n",
       "      <th>VR</th>\n",
       "      <td>12.0</td>\n",
       "      <td>34.0</td>\n",
       "    </tr>\n",
       "  </tbody>\n",
       "</table>\n",
       "</div>"
      ],
      "text/plain": [
       "         Arnab  Vishal\n",
       "OS        45.0     NaN\n",
       "PPT        NaN     NaN\n",
       "Science   23.0   132.0\n",
       "VR        12.0    34.0"
      ]
     },
     "execution_count": 23,
     "metadata": {},
     "output_type": "execute_result"
    }
   ],
   "source": [
    "resultSheet.loc['OS':'VR','Arnab':'Vishal']"
   ]
  },
  {
   "cell_type": "code",
   "execution_count": 24,
   "id": "d1c96052",
   "metadata": {},
   "outputs": [
    {
     "name": "stdout",
     "output_type": "stream",
     "text": [
      "         Arnab  Vishal  Ankit  Harsh    Tej\n",
      "Sub1      43.0   345.0   12.0  456.0    NaN\n",
      "Sub2       NaN     NaN    NaN    NaN   67.0\n",
      "Sub3       NaN     NaN    NaN    NaN  345.0\n",
      "OS        45.0     NaN   45.0   45.0   45.0\n",
      "PPT        NaN     NaN    NaN    NaN   56.0\n",
      "Science   23.0   132.0   23.0  234.0    NaN\n",
      "VR        12.0    34.0   45.0   67.0   78.0\n",
      "\n",
      "          Arnab  Vishal  Ankit  Harsh   Tej\n",
      "OS        45.0     NaN   45.0   45.0  45.0\n",
      "PPT        NaN     NaN    NaN    NaN  56.0\n",
      "Science   23.0   132.0   23.0  234.0   NaN\n",
      "VR        12.0    34.0   45.0   67.0  78.0\n"
     ]
    }
   ],
   "source": [
    "print(resultSheet)\n",
    "print(\"\\n\",resultSheet[[False,False,False,True,True,True,True]])"
   ]
  },
  {
   "cell_type": "code",
   "execution_count": 25,
   "id": "60c123d1",
   "metadata": {},
   "outputs": [
    {
     "name": "stdout",
     "output_type": "stream",
     "text": [
      "   C1   C2   C3   C5   C6   C7\n",
      "a   1  2.0  3.0  NaN  NaN  NaN\n",
      "b   4  5.0  NaN  NaN  NaN  NaN\n",
      "c   6  NaN  NaN  2.0  4.0  6.0\n",
      "    C1   C2   C3    C5    C6   C7\n",
      "a  1.0  2.0  3.0   NaN   NaN  NaN\n",
      "b  4.0  5.0  NaN   NaN   NaN  NaN\n",
      "c  6.0  NaN  NaN   2.0   4.0  6.0\n",
      "d  NaN  NaN  NaN   8.0  10.0  NaN\n",
      "e  NaN  NaN  NaN  12.0   NaN  NaN\n",
      "    C1   C2   C3    C5    C6   C7\n",
      "a  1.0  2.0  3.0   NaN   NaN  NaN\n",
      "b  4.0  5.0  NaN   NaN   NaN  NaN\n",
      "c  6.0  NaN  NaN   2.0   4.0  6.0\n",
      "d  NaN  NaN  NaN   8.0  10.0  NaN\n",
      "e  NaN  NaN  NaN  12.0   NaN  NaN\n",
      "   C1  C2  C3  C5   C6   C7\n",
      "c   6 NaN NaN   2  4.0  6.0\n",
      "   C1   C2   C3   C5   C6   C7\n",
      "a   1  2.0  3.0  NaN  NaN  NaN\n",
      "b   4  5.0  NaN  NaN  NaN  NaN\n",
      "c   6  NaN  NaN  2.0  4.0  6.0\n"
     ]
    }
   ],
   "source": [
    "df1 = pd.DataFrame([[1,2,3],[4,5],[6]],columns=['C1','C2','C3'],index=['a','b','c'])\n",
    "df2 = pd.DataFrame([[2,4,6],[8,10],[12]],columns=['C5','C6','C7'],index=['c','d','e'])\n",
    "df3 = df1.join(df2)\n",
    "print(df3)\n",
    "df3 = pd.concat([df1, df2], axis=1)\n",
    "print(df3)\n",
    "df4 = pd.merge(df1,df2, left_index=True, right_index=True, how='outer')\n",
    "print(df4)\n",
    "df4 = pd.merge(df1,df2, left_index=True, right_index=True, how='inner')\n",
    "print(df4)\n",
    "df4 = pd.merge(df1,df2, left_index=True, right_index=True, how='left')\n",
    "print(df4)"
   ]
  },
  {
   "cell_type": "code",
   "execution_count": 26,
   "id": "e2dcb211",
   "metadata": {},
   "outputs": [
    {
     "name": "stdout",
     "output_type": "stream",
     "text": [
      "1.13.1\n"
     ]
    }
   ],
   "source": [
    "import scipy as sp\n",
    "print(sp.__version__)"
   ]
  },
  {
   "cell_type": "code",
   "execution_count": null,
   "id": "c36789bd",
   "metadata": {},
   "outputs": [],
   "source": []
  }
 ],
 "metadata": {
  "kernelspec": {
   "display_name": "python-conda",
   "language": "python",
   "name": "python3"
  },
  "language_info": {
   "codemirror_mode": {
    "name": "ipython",
    "version": 3
   },
   "file_extension": ".py",
   "mimetype": "text/x-python",
   "name": "python",
   "nbconvert_exporter": "python",
   "pygments_lexer": "ipython3",
   "version": "3.9.20"
  }
 },
 "nbformat": 4,
 "nbformat_minor": 5
}
