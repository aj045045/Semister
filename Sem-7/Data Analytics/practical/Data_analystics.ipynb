{
 "cells": [
  {
   "cell_type": "markdown",
   "id": "5cd96d0c-2aee-44ee-b444-62531852dfda",
   "metadata": {},
   "source": [
    "## Numpy Tutorials"
   ]
  },
  {
   "cell_type": "code",
   "execution_count": 1,
   "id": "a65d28c7-9af0-4f7e-a139-b4ec9a8dfd23",
   "metadata": {
    "scrolled": true
   },
   "outputs": [
    {
     "name": "stdout",
     "output_type": "stream",
     "text": [
      "Shape :(4, 2)\n",
      "Type :<class 'numpy.ndarray'>\n",
      "Dimention :2\n",
      "Size :8\n",
      "Type :<U1\n",
      "Item size :4\n"
     ]
    }
   ],
   "source": [
    "import numpy as np\n",
    "arr = np.array([['a','n'],['s','h'],['y','a'],['d','a']])\n",
    "print(f\"Shape :{arr.shape}\")\n",
    "print(f\"Type :{type(arr)}\")\n",
    "print(f\"Dimention :{arr.ndim}\")\n",
    "print(f\"Size :{arr.size}\")\n",
    "print(f\"Type :{arr.dtype}\")\n",
    "print(f\"Item size :{arr.itemsize}\")"
   ]
  },
  {
   "cell_type": "code",
   "execution_count": 2,
   "id": "d07984c0-37d3-4e4f-a1af-5229e443f411",
   "metadata": {},
   "outputs": [
    {
     "name": "stdout",
     "output_type": "stream",
     "text": [
      "Array all :True\n"
     ]
    }
   ],
   "source": [
    "arr2 = np.array([[1,2],[3,4],[5,6],[7,8]],dtype='f')\n",
    "print(f\"Array all :{arr2.all()}\")"
   ]
  },
  {
   "cell_type": "code",
   "execution_count": 3,
   "id": "2395b2d7-3e2c-4304-8a16-773da348a646",
   "metadata": {},
   "outputs": [
    {
     "name": "stdout",
     "output_type": "stream",
     "text": [
      "Array Tuple :[1 2 3]\n"
     ]
    }
   ],
   "source": [
    "arr3 = np.array((1,2,3))\n",
    "print(f\"Array Tuple :{arr3}\")"
   ]
  },
  {
   "cell_type": "code",
   "execution_count": 4,
   "id": "ad7480bb-9d40-4bf8-b7eb-cdd2fe779d18",
   "metadata": {},
   "outputs": [
    {
     "name": "stdout",
     "output_type": "stream",
     "text": [
      "Array Zeros :\n",
      "[[0. 0. 0. 0. 0.]\n",
      " [0. 0. 0. 0. 0.]\n",
      " [0. 0. 0. 0. 0.]]\n"
     ]
    }
   ],
   "source": [
    "arrZero = np.zeros((3,5),dtype='f')\n",
    "print(f\"Array Zeros :\\n{arrZero}\")"
   ]
  },
  {
   "cell_type": "code",
   "execution_count": 5,
   "id": "3d366500-d373-4487-bb78-485b884cd6f6",
   "metadata": {},
   "outputs": [
    {
     "name": "stdout",
     "output_type": "stream",
     "text": [
      "Array Ones :\n",
      "[[1. 1. 1. 1. 1.]\n",
      " [1. 1. 1. 1. 1.]\n",
      " [1. 1. 1. 1. 1.]]\n"
     ]
    }
   ],
   "source": [
    "arrOnes = np.ones((3,5),dtype='f')\n",
    "print(f\"Array Ones :\\n{arrOnes}\")"
   ]
  },
  {
   "cell_type": "code",
   "execution_count": 6,
   "id": "47a408cb-011c-40e0-b25b-474917cd69e5",
   "metadata": {},
   "outputs": [
    {
     "name": "stdout",
     "output_type": "stream",
     "text": [
      "Arange :\n",
      "[ 0  5 10]\n"
     ]
    }
   ],
   "source": [
    "print(f\"Arange :\\n{np.arange(0,11,5)}\")"
   ]
  },
  {
   "cell_type": "code",
   "execution_count": 7,
   "id": "21f8b5f8-bd89-43b3-828b-4435c5b331f2",
   "metadata": {},
   "outputs": [
    {
     "name": "stdout",
     "output_type": "stream",
     "text": [
      "Random :\n",
      "[[0.82050213 0.3686004  0.34059366 0.37728807 0.12699447]\n",
      " [0.40535968 0.17309965 0.97848749 0.78225716 0.34157704]]\n"
     ]
    }
   ],
   "source": [
    "print(f\"Random :\\n{np.random.random((2,5))}\")"
   ]
  },
  {
   "cell_type": "code",
   "execution_count": 8,
   "id": "5231e6b8-c418-42fd-90ab-ba7e51c60e88",
   "metadata": {},
   "outputs": [
    {
     "name": "stdout",
     "output_type": "stream",
     "text": [
      "Linespace :\n",
      "[ 0.          0.50505051  1.01010101  1.51515152  2.02020202  2.52525253\n",
      "  3.03030303  3.53535354  4.04040404  4.54545455  5.05050505  5.55555556\n",
      "  6.06060606  6.56565657  7.07070707  7.57575758  8.08080808  8.58585859\n",
      "  9.09090909  9.5959596  10.1010101  10.60606061 11.11111111 11.61616162\n",
      " 12.12121212 12.62626263 13.13131313 13.63636364 14.14141414 14.64646465\n",
      " 15.15151515 15.65656566 16.16161616 16.66666667 17.17171717 17.67676768\n",
      " 18.18181818 18.68686869 19.19191919 19.6969697  20.2020202  20.70707071\n",
      " 21.21212121 21.71717172 22.22222222 22.72727273 23.23232323 23.73737374\n",
      " 24.24242424 24.74747475 25.25252525 25.75757576 26.26262626 26.76767677\n",
      " 27.27272727 27.77777778 28.28282828 28.78787879 29.29292929 29.7979798\n",
      " 30.3030303  30.80808081 31.31313131 31.81818182 32.32323232 32.82828283\n",
      " 33.33333333 33.83838384 34.34343434 34.84848485 35.35353535 35.85858586\n",
      " 36.36363636 36.86868687 37.37373737 37.87878788 38.38383838 38.88888889\n",
      " 39.39393939 39.8989899  40.4040404  40.90909091 41.41414141 41.91919192\n",
      " 42.42424242 42.92929293 43.43434343 43.93939394 44.44444444 44.94949495\n",
      " 45.45454545 45.95959596 46.46464646 46.96969697 47.47474747 47.97979798\n",
      " 48.48484848 48.98989899 49.49494949 50.        ]\n"
     ]
    }
   ],
   "source": [
    "print(f\"Linespace :\\n{np.linspace(0,50,100)}\")"
   ]
  },
  {
   "cell_type": "code",
   "execution_count": 9,
   "id": "f91530ec-f126-4ce4-b03b-4fcc21ca3b96",
   "metadata": {},
   "outputs": [
    {
     "name": "stdout",
     "output_type": "stream",
     "text": [
      "Diagonal eye :\n",
      "[[1. 0. 0. 0. 0. 0. 0. 0. 0. 0. 0. 0. 0. 0. 0.]\n",
      " [0. 1. 0. 0. 0. 0. 0. 0. 0. 0. 0. 0. 0. 0. 0.]\n",
      " [0. 0. 1. 0. 0. 0. 0. 0. 0. 0. 0. 0. 0. 0. 0.]\n",
      " [0. 0. 0. 1. 0. 0. 0. 0. 0. 0. 0. 0. 0. 0. 0.]\n",
      " [0. 0. 0. 0. 1. 0. 0. 0. 0. 0. 0. 0. 0. 0. 0.]\n",
      " [0. 0. 0. 0. 0. 1. 0. 0. 0. 0. 0. 0. 0. 0. 0.]\n",
      " [0. 0. 0. 0. 0. 0. 1. 0. 0. 0. 0. 0. 0. 0. 0.]\n",
      " [0. 0. 0. 0. 0. 0. 0. 1. 0. 0. 0. 0. 0. 0. 0.]\n",
      " [0. 0. 0. 0. 0. 0. 0. 0. 1. 0. 0. 0. 0. 0. 0.]\n",
      " [0. 0. 0. 0. 0. 0. 0. 0. 0. 1. 0. 0. 0. 0. 0.]\n",
      " [0. 0. 0. 0. 0. 0. 0. 0. 0. 0. 1. 0. 0. 0. 0.]\n",
      " [0. 0. 0. 0. 0. 0. 0. 0. 0. 0. 0. 1. 0. 0. 0.]\n",
      " [0. 0. 0. 0. 0. 0. 0. 0. 0. 0. 0. 0. 1. 0. 0.]\n",
      " [0. 0. 0. 0. 0. 0. 0. 0. 0. 0. 0. 0. 0. 1. 0.]\n",
      " [0. 0. 0. 0. 0. 0. 0. 0. 0. 0. 0. 0. 0. 0. 1.]]\n"
     ]
    }
   ],
   "source": [
    "print(f\"Diagonal eye :\\n{np.eye(15)}\")"
   ]
  },
  {
   "cell_type": "code",
   "execution_count": 10,
   "id": "672469d6-9681-4692-bdd1-009ac2c99e5a",
   "metadata": {},
   "outputs": [
    {
     "name": "stdout",
     "output_type": "stream",
     "text": [
      "Random :\n",
      "[[0.20712214 0.44516203 0.59053647 0.43627339 0.63218193 0.38483692\n",
      "  0.0658321  0.97924285 0.44251113 0.58644651]\n",
      " [0.02617023 0.07151096 0.71400789 0.30931107 0.62910758 0.00124048\n",
      "  0.29330166 0.15501022 0.94627082 0.90050711]\n",
      " [0.68737082 0.34945535 0.53064182 0.10349562 0.43060015 0.35455387\n",
      "  0.97103675 0.27880057 0.86773667 0.02650187]\n",
      " [0.86799479 0.26457492 0.67120974 0.8926718  0.68045137 0.40155526\n",
      "  0.1826063  0.8053818  0.5436181  0.35508312]\n",
      " [0.49777203 0.21751616 0.18890793 0.95680919 0.93414185 0.73932669\n",
      "  0.24195922 0.80304252 0.52862725 0.73233475]]\n"
     ]
    }
   ],
   "source": [
    "print(f\"Random :\\n{np.random.rand(5,10)}\")"
   ]
  },
  {
   "cell_type": "code",
   "execution_count": 11,
   "id": "8079e434-4acc-49c2-9cb9-87593c98111e",
   "metadata": {},
   "outputs": [
    {
     "name": "stdout",
     "output_type": "stream",
     "text": [
      "Random Integer :\n",
      "79\n"
     ]
    }
   ],
   "source": [
    "print(f\"Random Integer :\\n{np.random.randint(1,100)}\")"
   ]
  },
  {
   "cell_type": "code",
   "execution_count": 12,
   "id": "9982c0f8-f30e-40e5-b4c3-5e2252164276",
   "metadata": {},
   "outputs": [
    {
     "name": "stdout",
     "output_type": "stream",
     "text": [
      "Reshape :\n",
      "[[ 0  1  2  3  4  5  6  7  8  9]\n",
      " [10 11 12 13 14 15 16 17 18 19]\n",
      " [20 21 22 23 24 25 26 27 28 29]\n",
      " [30 31 32 33 34 35 36 37 38 39]]\n"
     ]
    }
   ],
   "source": [
    "print(f\"Reshape :\\n{np.arange(40).reshape(4,10)}\")"
   ]
  },
  {
   "cell_type": "code",
   "execution_count": 13,
   "id": "116e8941-c9df-4360-bcf3-91ee79aedbf5",
   "metadata": {},
   "outputs": [
    {
     "name": "stdout",
     "output_type": "stream",
     "text": [
      "Max value : 99\n"
     ]
    }
   ],
   "source": [
    "print(f\"Max value : {np.arange(100).max()}\")"
   ]
  },
  {
   "cell_type": "code",
   "execution_count": 14,
   "id": "43c46e6f-5793-4f28-ab97-3ab301f2c75c",
   "metadata": {},
   "outputs": [
    {
     "name": "stdout",
     "output_type": "stream",
     "text": [
      "Max argument ( return index ) :99\n"
     ]
    }
   ],
   "source": [
    "print(f\"Max argument ( return index ) :{np.arange(100).argmax()}\")"
   ]
  },
  {
   "cell_type": "code",
   "execution_count": 15,
   "id": "5cebc322-7184-46c4-b5dd-1c1400818690",
   "metadata": {},
   "outputs": [
    {
     "name": "stdout",
     "output_type": "stream",
     "text": [
      "Min argument ( return index ) :0\n"
     ]
    }
   ],
   "source": [
    "print(f\"Min argument ( return index ) :{np.arange(100).argmin()}\")"
   ]
  },
  {
   "cell_type": "markdown",
   "id": "5659911d-565e-4a8d-8d73-5487517baa73",
   "metadata": {},
   "source": [
    "# Chapter 6\n",
    "## Excercies Question no 4"
   ]
  },
  {
   "cell_type": "code",
   "execution_count": 16,
   "id": "10ba3cff-d068-4ee7-a318-fe9c486dfe26",
   "metadata": {},
   "outputs": [
    {
     "name": "stdout",
     "output_type": "stream",
     "text": [
      "A) 1-D array called zeros having 10 elements and all the elements are set to zero. :[0. 0. 0. 0. 0. 0. 0. 0. 0. 0.]\n"
     ]
    }
   ],
   "source": [
    "print(f\"A) 1-D array called zeros having 10 elements and all the elements are set to zero. :{np.zeros(10)}\")"
   ]
  },
  {
   "cell_type": "code",
   "execution_count": 17,
   "id": "0a9dfcff-9522-49e5-b271-fe1c6d40368b",
   "metadata": {},
   "outputs": [
    {
     "name": "stdout",
     "output_type": "stream",
     "text": [
      "B) A 1-D array called vowels having the elements ‘a’, ‘e’, ‘i’, ‘o’ and ‘u’. :['a' 'e' 'i' 'o' 'u']\n"
     ]
    }
   ],
   "source": [
    "print(f\"B) A 1-D array called vowels having the elements ‘a’, ‘e’, ‘i’, ‘o’ and ‘u’. :{np.array(['a','e','i','o','u'])}\")"
   ]
  },
  {
   "cell_type": "code",
   "execution_count": 18,
   "id": "f2a36fe7-cc91-49a5-accd-9e10a725367f",
   "metadata": {},
   "outputs": [
    {
     "name": "stdout",
     "output_type": "stream",
     "text": [
      "C) A 2-D array called ones having 2 rows and 5 columns and all the elements are set to 1 and dtype as int. :\n",
      "[[1 1 1 1 1]\n",
      " [1 1 1 1 1]]\n"
     ]
    }
   ],
   "source": [
    "print(f\"C) A 2-D array called ones having 2 rows and 5 columns and all the elements are set to 1 and dtype as int. :\\n{np.ones((2,5),dtype='i')}\")"
   ]
  },
  {
   "cell_type": "code",
   "execution_count": 19,
   "id": "24a1a603-bff4-40ec-ab4e-0aaa410dc5f8",
   "metadata": {},
   "outputs": [
    {
     "name": "stdout",
     "output_type": "stream",
     "text": [
      "D) Use nested Python lists to create a 2-D array called myarray1 having 3 rows and 3 columns and store the following data :\n",
      "[[  2.7  -2.  -19. ]\n",
      " [  0.    3.4  99.9]\n",
      " [ 10.6   0.   13. ]]\n"
     ]
    }
   ],
   "source": [
    "print(f\"D) Use nested Python lists to create a 2-D array called myarray1 having 3 rows and 3 columns and store the following data :\\n{np.array([[2.7,-2,-19],[0, 3.4, 99.9],[10.6, 0, 13]])}\")"
   ]
  },
  {
   "cell_type": "code",
   "execution_count": 20,
   "id": "86640ae3-8e51-49cd-98fe-9fe663a563fe",
   "metadata": {},
   "outputs": [
    {
     "name": "stdout",
     "output_type": "stream",
     "text": [
      "E) A 2-D array called myarray2 using arange() having 3 rows and 5 columns with start value = 4, step size 4 and dtype as float. :\n",
      "[[ 4  8 12 16 20]\n",
      " [24 28 32 36 40]\n",
      " [44 48 52 56 60]]\n"
     ]
    }
   ],
   "source": [
    "print(f\"E) A 2-D array called myarray2 using arange() having 3 rows and 5 columns with start value = 4, step size 4 and dtype as float. :\\n{np.arange(4,62,4).reshape(3,5)}\")"
   ]
  },
  {
   "cell_type": "markdown",
   "id": "d77b5668",
   "metadata": {},
   "source": [
    "## Quesiton 5"
   ]
  },
  {
   "cell_type": "code",
   "execution_count": 21,
   "id": "8c4520ee",
   "metadata": {},
   "outputs": [
    {
     "name": "stdout",
     "output_type": "stream",
     "text": [
      "int64\n",
      "float64\n",
      "\n",
      "[[0 1 2 3 4]\n",
      " [5 6 7 8 9]]\n",
      "\n",
      "['e' 'i']\n",
      "\n",
      "[[ 4  8 12 16 20]\n",
      " [24 28 32 36 40]\n",
      " [44 48 52 56 60]]\n",
      "[[24 28 32 36 40]\n",
      " [44 48 52 56 60]]\n",
      "\n",
      "[[ 8 12]\n",
      " [28 32]\n",
      " [48 52]]\n",
      "[24 44]\n",
      "\n",
      "['u' 'o' 'i' 'e' 'a']\n"
     ]
    }
   ],
   "source": [
    "# 1\n",
    "print(np.arange(4,62,4).reshape(3,5).dtype)\n",
    "print(np.array([[2.7,-2,-19],[0, 3.4, 99.9],[10.6, 0, 13]]).dtype)\n",
    "print()\n",
    "\n",
    "# 2\n",
    "print(np.arange(10).reshape(2,5))\n",
    "print()\n",
    "\n",
    "# 3\n",
    "print(np.array(['a','e','i','o','u'])[1:3])\n",
    "print()\n",
    "\n",
    "# 4\n",
    "arr = np.arange(4,62,4).reshape(3,5)\n",
    "print(arr)\n",
    "print(arr[1:3])\n",
    "print()\n",
    "\n",
    "# 5\n",
    "print(arr[:,1:3])\n",
    "\n",
    "# 6\n",
    "print(arr[:,0][1:3])\n",
    "print()\n",
    "# 7\n",
    "print(np.array(['a','e','i','o','u'])[::-1])"
   ]
  },
  {
   "cell_type": "markdown",
   "id": "d1e2fa80",
   "metadata": {},
   "source": [
    "## Question 6"
   ]
  },
  {
   "cell_type": "code",
   "execution_count": 22,
   "id": "119a9eab",
   "metadata": {},
   "outputs": [
    {
     "name": "stdout",
     "output_type": "stream",
     "text": [
      "[0.33333333 0.33333333 0.33333333 0.33333333 0.33333333 0.33333333\n",
      " 0.33333333 0.33333333 0.33333333 0.33333333]\n",
      "[ 0  5 10 15 20 25 30 35 40 45 50 55 60 65 70 75 80 85 90 95]\n",
      "[  0  10  20  30  40  50  60  70  80  90 100 110 120 130 140 150 160 170\n",
      " 180 190]\n",
      "\n",
      "Output  [  0  15  30  45  60  75  90 105 120 135 150 165 180 195 210 225 240 255\n",
      " 270 285]\n",
      "[  0  15  30  45  60  75  90 105 120 135 150 165 180 195 210 225 240 255\n",
      " 270 285]\n",
      "\n",
      "[  0  -5 -10 -15 -20 -25 -30 -35 -40 -45 -50 -55 -60 -65 -70 -75 -80 -85\n",
      " -90 -95]\n",
      "[  0  -5 -10 -15 -20 -25 -30 -35 -40 -45 -50 -55 -60 -65 -70 -75 -80 -85\n",
      " -90 -95]\n",
      "\n",
      "[    0    50   200   450   800  1250  1800  2450  3200  4050  5000  6050\n",
      "  7200  8450  9800 11250 12800 14450 16200 18050]\n",
      "[    0    50   200   450   800  1250  1800  2450  3200  4050  5000  6050\n",
      "  7200  8450  9800 11250 12800 14450 16200 18050]\n",
      "\n",
      "E [[ 1  2  3  4]\n",
      " [ 5  6  7  8]\n",
      " [ 9 10 11 12]\n",
      " [13 14 15 16]] \n",
      "\n",
      " [[ 11  22  33  44]\n",
      " [ 55  66  77  88]\n",
      " [ 99 110 111 112]\n",
      " [113 114 115 116]]\n",
      "\n",
      "\n",
      "[[ 870  940  980 1020]\n",
      " [1982 2188 2324 2460]\n",
      " [3094 3436 3668 3900]\n",
      " [4206 4684 5012 5340]]\n",
      "\n",
      "[[0.09090909 0.09090909 0.09090909 0.09090909]\n",
      " [0.09090909 0.09090909 0.09090909 0.09090909]\n",
      " [0.09090909 0.09090909 0.0990991  0.10714286]\n",
      " [0.11504425 0.12280702 0.13043478 0.13793103]]\n",
      "[[0.09090909 0.09090909 0.09090909 0.09090909]\n",
      " [0.09090909 0.09090909 0.09090909 0.09090909]\n",
      " [0.09090909 0.09090909 0.0990991  0.10714286]\n",
      " [0.11504425 0.12280702 0.13043478 0.13793103]]\n",
      "\n",
      "[[   1    8   27   64]\n",
      " [ 125  216  343  512]\n",
      " [ 729 1000 1331 1728]\n",
      " [2197 2744 3375 4096]]\n",
      "[[5.0000e-01 4.0000e+00 1.3500e+01 3.2000e+01]\n",
      " [6.2500e+01 1.0800e+02 1.7150e+02 2.5600e+02]\n",
      " [3.6450e+02 5.0000e+02 6.6550e+02 8.6400e+02]\n",
      " [1.0985e+03 1.3720e+03 1.6875e+03 2.0480e+03]]\n",
      "\n",
      "[[5.0000e-01 4.0000e+00 1.3500e+01 3.2000e+01]\n",
      " [6.2500e+01 1.0800e+02 1.7150e+02 2.5600e+02]\n",
      " [3.6450e+02 5.0000e+02 6.6550e+02 8.6400e+02]\n",
      " [1.0985e+03 1.3720e+03 1.6875e+03 2.0480e+03]]\n"
     ]
    }
   ],
   "source": [
    "# a\n",
    "print(np.ones(10)/3)\n",
    "\n",
    "# b\n",
    "arr1 = np.arange(0,100,5)\n",
    "arr2 = np.arange(0,200,10)\n",
    "print(arr1)\n",
    "print(arr2)\n",
    "print(\"\\nOutput \",arr1 + arr2)\n",
    "print(np.add(arr1,arr2))\n",
    "print()\n",
    "\n",
    "# c\n",
    "print(arr1-arr2)\n",
    "print(np.subtract(arr1,arr2))\n",
    "print()\n",
    "\n",
    "# d\n",
    "print(arr1*arr2)\n",
    "print(np.multiply(arr1,arr2))\n",
    "print()\n",
    "\n",
    "# e\n",
    "arr12 = np.array([[1,2,3,4],[5,6,7,8],[9,10,11,12],[13,14,15,16]])\n",
    "arr22 = np.array([[11,22,33,44],[55,66,77,88],[99,110,111,112],[113,114,115,116]])\n",
    "print(f\"E {arr12} \\n\\n {arr22}\\n\\n\")\n",
    "print(np.matmul(arr12,arr22))\n",
    "print()\n",
    "\n",
    "# f\n",
    "print(arr12/arr22)\n",
    "print(np.divide(arr12,arr22))\n",
    "print()\n",
    "\n",
    "# g\n",
    "print(arr12**3)\n",
    "print(np.divide(arr12**3,2))\n",
    "print()\n",
    "\n",
    "# h\n",
    "print(np.round(np.divide(arr12**3,2),decimals=2))"
   ]
  },
  {
   "cell_type": "markdown",
   "id": "512f04f0",
   "metadata": {},
   "source": [
    "## Question 7"
   ]
  },
  {
   "cell_type": "code",
   "execution_count": 23,
   "id": "a831f536",
   "metadata": {},
   "outputs": [
    {
     "name": "stdout",
     "output_type": "stream",
     "text": [
      "[[1. 1. 1. 1. 1.]\n",
      " [1. 1. 1. 1. 1.]\n",
      " [1. 1. 1. 1. 1.]\n",
      " [1. 1. 1. 1. 1.]\n",
      " [1. 1. 1. 1. 1.]]\n",
      "[[ 0  5 10 15 20]\n",
      " [ 1  6 11 16 21]\n",
      " [ 2  7 12 17 22]\n",
      " [ 3  8 13 18 23]\n",
      " [ 4  9 14 19 24]]\n",
      "None\n"
     ]
    }
   ],
   "source": [
    "# a\n",
    "print(np.ones(25).reshape(5,5).transpose())\n",
    "print(np.arange(25).reshape(5,5).transpose())\n",
    "\n",
    "# c\n",
    "print(arr12.sort())\n"
   ]
  },
  {
   "cell_type": "code",
   "execution_count": 24,
   "id": "9da85b08",
   "metadata": {},
   "outputs": [
    {
     "name": "stdout",
     "output_type": "stream",
     "text": [
      "[[ 0  1  2  3  4  5  6  7  8  9]\n",
      " [10 11 12 13 14 15 16 17 18 19]\n",
      " [20 21 22 23 24 25 26 27 28 29]\n",
      " [30 31 32 33 34 35 36 37 38 39]]\n",
      "[[ 0 10 20 30]\n",
      " [ 1 11 21 31]\n",
      " [ 2 12 22 32]\n",
      " [ 3 13 23 33]\n",
      " [ 4 14 24 34]\n",
      " [ 5 15 25 35]\n",
      " [ 6 16 26 36]\n",
      " [ 7 17 27 37]\n",
      " [ 8 18 28 38]\n",
      " [ 9 19 29 39]]\n"
     ]
    }
   ],
   "source": [
    "arr = np.arange(40).reshape(4,10)\n",
    "print(arr)\n",
    "print(arr.transpose())"
   ]
  },
  {
   "cell_type": "code",
   "execution_count": null,
   "id": "ab31c5f9",
   "metadata": {},
   "outputs": [],
   "source": []
  }
 ],
 "metadata": {
  "kernelspec": {
   "display_name": "python-conda",
   "language": "python",
   "name": "python3"
  },
  "language_info": {
   "codemirror_mode": {
    "name": "ipython",
    "version": 3
   },
   "file_extension": ".py",
   "mimetype": "text/x-python",
   "name": "python",
   "nbconvert_exporter": "python",
   "pygments_lexer": "ipython3",
   "version": "3.9.20"
  }
 },
 "nbformat": 4,
 "nbformat_minor": 5
}
