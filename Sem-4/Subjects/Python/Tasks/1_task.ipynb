{
 "cells": [
  {
   "cell_type": "markdown",
   "id": "3e2fe5a6",
   "metadata": {},
   "source": [
    "# [ 1 ] Write a python program to sum the number of all elements "
   ]
  },
  {
   "cell_type": "code",
   "execution_count": 3,
   "id": "1eedcb4b",
   "metadata": {},
   "outputs": [
    {
     "name": "stdout",
     "output_type": "stream",
     "text": [
      "Enter the First number :10\n",
      "Enter the Second number :20\n",
      "Enter the Third number :30\n",
      "Sum is : 60\n"
     ]
    }
   ],
   "source": [
    "a=int(input(\"Enter the First number :\"))\n",
    "b=int(input(\"Enter the Second number :\"))\n",
    "c=int(input(\"Enter the Third number :\"))\n",
    "print(\"\\nSum is :\",a+b+c)"
   ]
  },
  {
   "cell_type": "markdown",
   "id": "268bbe99",
   "metadata": {},
   "source": [
    "# [ 2 ] Write a python program to get the largest value from the list"
   ]
  },
  {
   "cell_type": "code",
   "execution_count": 17,
   "id": "207ebd9e",
   "metadata": {},
   "outputs": [
    {
     "name": "stdout",
     "output_type": "stream",
     "text": [
      "Enter the number of element you want to enter:10\n",
      "Enter the element :1\n",
      "Enter the element :2\n",
      "Enter the element :3\n",
      "Enter the element :4\n",
      "Enter the element :5\n",
      "Enter the element :6\n",
      "Enter the element :7\n",
      "Enter the element :8\n",
      "Enter the element :9\n",
      "Enter the element :12\n",
      "Larger value is num : 12\n"
     ]
    }
   ],
   "source": [
    "element=int(input(\"Enter the number of element you want to enter:\"))\n",
    "list_a=[]\n",
    "for i in range(element):\n",
    "    val=int(input(\"Enter the element :\"))\n",
    "    list_a.append(val)\n",
    "num=0\n",
    "for i in list_a:\n",
    "    if i > num:\n",
    "        num=i\n",
    "print(\"Larger value is num :\",num)\n"
   ]
  },
  {
   "cell_type": "markdown",
   "id": "8b50a2c7",
   "metadata": {},
   "source": [
    "# [ 3 ]  Write a program to count a number of string from a given list of strings the length is 3 or more and the first and last is same"
   ]
  },
  {
   "cell_type": "code",
   "execution_count": 2,
   "id": "11d3bb7b",
   "metadata": {
    "scrolled": false
   },
   "outputs": [
    {
     "name": "stdout",
     "output_type": "stream",
     "text": [
      "Enter a number of string :3\n",
      "Enter the string :AnshA\n",
      "Enter the string :alex\n",
      "Enter the string :ajay\n",
      "The Number of string that have first and last element is same : 1\n"
     ]
    }
   ],
   "source": [
    "a=int(input(\"Enter a number of string :\"))\n",
    "list_a=[]\n",
    "count=0\n",
    "for i in range(a):\n",
    "    val=input(\"Enter the string :\")\n",
    "    list_a.append(val)\n",
    "for i in list_a:\n",
    "    if len(i)>3:\n",
    "        if i[-1] == i[0]:\n",
    "            count=count+1\n",
    "print (\"The Number of string that have first and last element is same :\",count)"
   ]
  },
  {
   "cell_type": "markdown",
   "id": "c0ae5bb7",
   "metadata": {},
   "source": [
    "#  [ 4 ] Write a python program to remove duplicate value from the list"
   ]
  },
  {
   "cell_type": "code",
   "execution_count": 4,
   "id": "4b8b8116",
   "metadata": {},
   "outputs": [
    {
     "name": "stdout",
     "output_type": "stream",
     "text": [
      "Enter the number of string you want to enter :4\n",
      "Enter the string you want to enter :Ansh\n",
      "Enter the string you want to enter :Ansh\n",
      "Enter the string you want to enter :ajay\n",
      "Enter the string you want to enter :vales\n",
      "['Ansh', 'ajay', 'vales']\n"
     ]
    }
   ],
   "source": [
    "val=int(input(\"Enter the number of string you want to enter :\"))\n",
    "list_a=[]\n",
    "for i in range(val):\n",
    "    num=input(\"Enter the string you want to enter :\")\n",
    "    if num not in list_a:\n",
    "        list_a.append(num)\n",
    "print(list_a)"
   ]
  },
  {
   "cell_type": "markdown",
   "id": "9ba59ef6",
   "metadata": {},
   "source": [
    "# [ 5 ] Write a python program to find list of word that are longer than n from a given list of words ( use split)"
   ]
  },
  {
   "cell_type": "code",
   "execution_count": 11,
   "id": "8ba116fb",
   "metadata": {},
   "outputs": [
    {
     "name": "stdout",
     "output_type": "stream",
     "text": [
      "Enter the string :i am ansh yadav\n",
      "Enter the number of word to be longer to print :4\n",
      "Words are : yadav\n"
     ]
    }
   ],
   "source": [
    "x=input(\"Enter the string :\")\n",
    "word=int(input(\"Enter the number of word to be longer to print :\"))\n",
    "text=x.split()\n",
    "for i in text:\n",
    "    if len(i) > word:\n",
    "        print(\"Words are :\",i)"
   ]
  },
  {
   "cell_type": "markdown",
   "id": "a94ffb33",
   "metadata": {},
   "source": [
    "# [ 6 ] Take any two list and find the common element of given"
   ]
  },
  {
   "cell_type": "code",
   "execution_count": 9,
   "id": "c14ed4d2",
   "metadata": {},
   "outputs": [
    {
     "name": "stdout",
     "output_type": "stream",
     "text": [
      "Enter the first list :1 2 3 4 5 6 7 7 8 9 0\n",
      "Enter the second list : 2 3 4 5 6 7 8 9 0 \n",
      "<class 'list'>\n",
      "list is : ['2', '3', '4', '5', '6', '7', '8', '9', '0']\n"
     ]
    }
   ],
   "source": [
    "a=input(\"Enter the first list :\")\n",
    "b=input(\"Enter the second list : \")\n",
    "a=a.split(' ')\n",
    "b=b.split(' ')\n",
    "c = []\n",
    "print(type(c))\n",
    "for i in a:\n",
    "    for j in b:\n",
    "        if i==j:\n",
    "            if i not in c:      \n",
    "                c.append(i)\n",
    "print(\"list is :\", c)"
   ]
  },
  {
   "cell_type": "markdown",
   "id": "7a96877d",
   "metadata": {},
   "source": [
    "# [ 7 ] Print a list after removing the element having even index number"
   ]
  },
  {
   "cell_type": "code",
   "execution_count": 16,
   "id": "a82bf98c",
   "metadata": {},
   "outputs": [
    {
     "name": "stdout",
     "output_type": "stream",
     "text": [
      "Enter the n number to input 5\n",
      "Enter the number :1\n",
      "Enter the number :2\n",
      "Enter the number :3\n",
      "Enter the number :4\n",
      "Enter the number :5\n",
      "Value is : [1, 3, 5]\n"
     ]
    }
   ],
   "source": [
    "a=int(input(\"Enter the n number to input \"))\n",
    "b=[]\n",
    "for i in range(a):\n",
    "    b.append(int(input(\"Enter the number :\")))\n",
    "\n",
    "c=[]\n",
    "for idx in range(len(b)):\n",
    "    if (idx % 2 == 0):\n",
    "        c.append(b[idx])\n",
    "print(\"Value is :\",c)"
   ]
  },
  {
   "cell_type": "markdown",
   "id": "723bc95d",
   "metadata": {},
   "source": [
    "# [ 8 ] Convert a list of multiple integer into a single integer"
   ]
  },
  {
   "cell_type": "code",
   "execution_count": 19,
   "id": "d712c90c",
   "metadata": {},
   "outputs": [
    {
     "name": "stdout",
     "output_type": "stream",
     "text": [
      "Enter the first list :1 2 3 4 5 6 7 8 9 8 4 5 6\n",
      "List is : ['1', '2', '3', '4', '5', '6', '7', '8', '9']\n"
     ]
    }
   ],
   "source": [
    "a = input(\"Enter the first list :\")\n",
    "a = a.split(' ')\n",
    "b = []\n",
    "for i in a:\n",
    "    if i not in b:\n",
    "        b.append(i)\n",
    "print(\"List is :\", b)"
   ]
  },
  {
   "cell_type": "markdown",
   "id": "86917525",
   "metadata": {},
   "source": [
    "# [ 9 ] Move all zero digit to the end of a given list of numbers"
   ]
  },
  {
   "cell_type": "code",
   "execution_count": 50,
   "id": "a81577c6",
   "metadata": {},
   "outputs": [
    {
     "name": "stdout",
     "output_type": "stream",
     "text": [
      "Enter the list6\n",
      "Enter the 0 value1\n",
      "Enter the 1 value2\n",
      "Enter the 2 value3\n",
      "Enter the 3 value4\n",
      "Enter the 4 value0\n",
      "Enter the 5 value6\n",
      "[1, 2, 3, 4, 6, 0]\n"
     ]
    }
   ],
   "source": [
    " num=int(input(\"Enter the list\"))\n",
    "val = []\n",
    "for i in range(num):\n",
    "    num_1=int(input(\"Enter the %d value\" %i))\n",
    "    val.append(num_1)\n",
    "for i in range(len(val)):\n",
    "    if val[i] == 0:\n",
    "        val.pop(i)\n",
    "        val.append(0)\n",
    "print(val)"
   ]
  },
  {
   "cell_type": "markdown",
   "id": "ae8a9035",
   "metadata": {},
   "source": [
    "# [ 10 ] Take any three list and find the list whose sum of element is highest"
   ]
  },
  {
   "cell_type": "code",
   "execution_count": 23,
   "id": "d1e84cee",
   "metadata": {},
   "outputs": [
    {
     "name": "stdout",
     "output_type": "stream",
     "text": [
      "First list\n",
      "Enter the number of list :5\n",
      "Enter the value :1\n",
      "Enter the value :2\n",
      "Enter the value :3\n",
      "Enter the value :4\n",
      "Enter the value :5\n",
      "Sum is : 15\n",
      "Second list\n",
      "Enter the number of list :3\n",
      "Enter the value :12\n",
      "Enter the value :23\n",
      "Enter the value :34\n",
      "Sum is : 69\n",
      "Third list\n",
      "Enter the number of list :4\n",
      "Enter the value :21\n",
      "Enter the value :34\n",
      "Enter the value :56\n",
      "Enter the value :55\n",
      "Sum is : 166\n",
      "\n",
      "Sum of third list is greater :166\n"
     ]
    }
   ],
   "source": [
    "def sum_value(list_1):\n",
    "    val=0\n",
    "    \n",
    "    for i in range(len(list_1)):\n",
    "        val+=list_1[i]\n",
    "    print(\"Sum is :\",val)\n",
    "    return val\n",
    "def insert(list_1):\n",
    "    num=int(input(\"Enter the number of list :\"))\n",
    "    for i in range(num):\n",
    "        val=int(input(\"Enter the value :\"))\n",
    "        list_1.append(val)\n",
    "a=[]\n",
    "b=[]\n",
    "c=[]\n",
    "print(\"First list\")\n",
    "insert(a)\n",
    "sum_a = sum_value(a)\n",
    "print(\"Second list\")\n",
    "insert(b)\n",
    "sum_b = sum_value(b)\n",
    "print(\"Third list\")\n",
    "insert(c)\n",
    "sum_c = sum_value(c)\n",
    "\n",
    "if sum_a > sum_b and sum_a > sum_c :\n",
    "    print(\"\\nSum of first list is greater :%d\" %sum_a)\n",
    "elif sum_b > sum_c and sum_b > sum_a:\n",
    "    print(\"\\nSum of secod list is greater :%d\" %sum_b)\n",
    "else:\n",
    "    print(\"\\nSum of third list is greater :%d\" %sum_c)"
   ]
  },
  {
   "cell_type": "markdown",
   "id": "72052145",
   "metadata": {},
   "source": [
    "# [ 11 ] Remove puncuations and digits from a sentence"
   ]
  },
  {
   "cell_type": "code",
   "execution_count": 55,
   "id": "d70d4ab3",
   "metadata": {},
   "outputs": [
    {
     "name": "stdout",
     "output_type": "stream",
     "text": [
      "Final Output:  The Mother Nature said        Hello \n"
     ]
    }
   ],
   "source": [
    "str1=\"The Mother Nature said 12345 ,Hello.\"\n",
    "str2= \"01234567890\"\n",
    "str3=\" \"\n",
    "\n",
    "for i in str1:\n",
    "        if i not in str2:\n",
    "            str3+=i;\n",
    "            for j in \".,!\":\n",
    "                str1=str1.replace(j,\" \")\n",
    "        for j in str2:\n",
    "                str1=str1.replace(j,\" \")\n",
    "print(\"Final Output: \",str1)"
   ]
  },
  {
   "cell_type": "markdown",
   "id": "e4a42c04",
   "metadata": {},
   "source": [
    "# [ 12 ] Find the occurance of particular element from a sentence"
   ]
  },
  {
   "cell_type": "code",
   "execution_count": 4,
   "id": "b3947985",
   "metadata": {},
   "outputs": [
    {
     "name": "stdout",
     "output_type": "stream",
     "text": [
      "Enter the number112334556778999\n",
      "List is : ['1', '2', '3', '4', '5', '6', '7', '8', '9']\n"
     ]
    }
   ],
   "source": [
    "num=input(\"Enter the number\")\n",
    "c = []\n",
    "for i in num:\n",
    "    if i not in c:\n",
    "        c.append(i)\n",
    "print(\"List is :\",c)"
   ]
  },
  {
   "cell_type": "markdown",
   "id": "bf970e64",
   "metadata": {},
   "source": [
    "# [ 13 ] Generate a fibonaci series of N numbers"
   ]
  },
  {
   "cell_type": "code",
   "execution_count": 5,
   "id": "6848fcc0",
   "metadata": {},
   "outputs": [
    {
     "name": "stdout",
     "output_type": "stream",
     "text": [
      "How many terms? 6\n",
      "Fibonacci sequence:\n",
      "0\n",
      "1\n",
      "1\n",
      "2\n",
      "3\n",
      "5\n"
     ]
    }
   ],
   "source": [
    "nterms = int(input(\"How many terms? \"))\n",
    "n1, n2 = 0, 1\n",
    "count = 0\n",
    "if nterms <= 0:\n",
    "    print(\"Please enter a positive integer\")\n",
    "elif nterms == 1:\n",
    "    print(\"Fibonacci sequence upto\",nterms,\":\")\n",
    "    print(n1)\n",
    "else:\n",
    "    print(\"Fibonacci sequence:\")\n",
    "    while count < nterms:\n",
    "        print(n1)\n",
    "        nth = n1 + n2\n",
    "        n1 = n2\n",
    "        n2 = nth\n",
    "        count += 1"
   ]
  },
  {
   "cell_type": "markdown",
   "id": "72cbc0b1",
   "metadata": {},
   "source": [
    "# [ 14 ] Check wheater the given number is prime or not\n"
   ]
  },
  {
   "cell_type": "code",
   "execution_count": 7,
   "id": "e9859ac3",
   "metadata": {},
   "outputs": [
    {
     "name": "stdout",
     "output_type": "stream",
     "text": [
      "Enter number to check the prime number :3\n",
      "3 is a prime number\n"
     ]
    }
   ],
   "source": [
    "num=int(input(\"Enter number to check the prime number :\"))\n",
    "flag = False\n",
    "\n",
    "if num == 1:\n",
    "    print(num, \"is not a prime number\")\n",
    "elif num > 1:\n",
    "    for i in range(2, num):\n",
    "        if (num % i) == 0:\n",
    "            flag = True\n",
    "            break\n",
    "    if flag:\n",
    "        print(num, \"is not a prime number\")\n",
    "    else:\n",
    "        print(num, \"is a prime number\")\n"
   ]
  }
 ],
 "metadata": {
  "kernelspec": {
   "display_name": "Python 3 (ipykernel)",
   "language": "python",
   "name": "python3"
  },
  "language_info": {
   "codemirror_mode": {
    "name": "ipython",
    "version": 3
   },
   "file_extension": ".py",
   "mimetype": "text/x-python",
   "name": "python",
   "nbconvert_exporter": "python",
   "pygments_lexer": "ipython3",
   "version": "3.11.1"
  }
 },
 "nbformat": 4,
 "nbformat_minor": 5
}
