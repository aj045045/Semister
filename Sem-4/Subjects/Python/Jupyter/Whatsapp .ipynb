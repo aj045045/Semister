{
 "cells": [
  {
   "cell_type": "code",
   "execution_count": null,
   "id": "a5733372",
   "metadata": {},
   "outputs": [],
   "source": [
    "pywhatkit.sendwhatmsg(\n",
    "    phone_no=\"+017434021021\", \n",
    "    message=\"This is a scheduled message.\",\n",
    "    time_hour=9,\n",
    "    time_min=47\n",
    ")"
   ]
  },
  {
   "cell_type": "code",
   "execution_count": null,
   "id": "aedb62fe",
   "metadata": {},
   "outputs": [],
   "source": []
  }
 ],
 "metadata": {
  "kernelspec": {
   "display_name": "Python 3 (ipykernel)",
   "language": "python",
   "name": "python3"
  },
  "language_info": {
   "codemirror_mode": {
    "name": "ipython",
    "version": 3
   },
   "file_extension": ".py",
   "mimetype": "text/x-python",
   "name": "python",
   "nbconvert_exporter": "python",
   "pygments_lexer": "ipython3",
   "version": "3.11.1"
  }
 },
 "nbformat": 4,
 "nbformat_minor": 5
}
