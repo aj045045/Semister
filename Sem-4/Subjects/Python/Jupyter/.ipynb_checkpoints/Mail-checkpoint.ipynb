{
 "cells": [
  {
   "cell_type": "markdown",
   "id": "0c41fe87",
   "metadata": {
    "tags": [
     "Assignment"
    ]
   },
   "source": [
    "# PYTHON Email Codes"
   ]
  },
  {
   "cell_type": "code",
   "execution_count": 1,
   "id": "bcb8254b",
   "metadata": {},
   "outputs": [
    {
     "ename": "SMTPRecipientsRefused",
     "evalue": "{'-f': (553, b'5.1.3 The recipient address <-f> is not a valid RFC-5321 address. Learn more\\n5.1.3 at\\n5.1.3  https://support.google.com/mail/answer/6596 g6-20020a17090ac30600b00233b196fe30sm2153802pjt.20 - gsmtp')}",
     "output_type": "error",
     "traceback": [
      "\u001b[1;31m---------------------------------------------------------------------------\u001b[0m",
      "\u001b[1;31mSMTPRecipientsRefused\u001b[0m                     Traceback (most recent call last)",
      "Cell \u001b[1;32mIn[1], line 15\u001b[0m\n\u001b[0;32m     13\u001b[0m smtp \u001b[38;5;241m=\u001b[39m smtplib\u001b[38;5;241m.\u001b[39mSMTP_SSL(\u001b[38;5;124m\"\u001b[39m\u001b[38;5;124msmtp.gmail.com\u001b[39m\u001b[38;5;124m\"\u001b[39m)\n\u001b[0;32m     14\u001b[0m smtp\u001b[38;5;241m.\u001b[39mlogin(sender, \u001b[38;5;124m\"\u001b[39m\u001b[38;5;124mwuxbpnckyxomyjsq\u001b[39m\u001b[38;5;124m\"\u001b[39m)\n\u001b[1;32m---> 15\u001b[0m \u001b[43msmtp\u001b[49m\u001b[38;5;241;43m.\u001b[39;49m\u001b[43msendmail\u001b[49m\u001b[43m(\u001b[49m\u001b[43msender\u001b[49m\u001b[43m,\u001b[49m\u001b[43m \u001b[49m\u001b[43msys\u001b[49m\u001b[38;5;241;43m.\u001b[39;49m\u001b[43margv\u001b[49m\u001b[43m[\u001b[49m\u001b[38;5;241;43m1\u001b[39;49m\u001b[43m]\u001b[49m\u001b[43m,\u001b[49m\u001b[43m \u001b[49m\u001b[43memail\u001b[49m\u001b[38;5;241;43m.\u001b[39;49m\u001b[43mas_string\u001b[49m\u001b[43m(\u001b[49m\u001b[43m)\u001b[49m\u001b[43m)\u001b[49m\n\u001b[0;32m     16\u001b[0m smtp\u001b[38;5;241m.\u001b[39mquit()\n\u001b[0;32m     17\u001b[0m \u001b[38;5;28mprint\u001b[39m(\u001b[38;5;124m\"\u001b[39m\u001b[38;5;124mSuccess full\u001b[39m\u001b[38;5;124m\"\u001b[39m)\n",
      "File \u001b[1;32m~\\AppData\\Local\\Programs\\Python\\Python311\\Lib\\smtplib.py:901\u001b[0m, in \u001b[0;36mSMTP.sendmail\u001b[1;34m(self, from_addr, to_addrs, msg, mail_options, rcpt_options)\u001b[0m\n\u001b[0;32m    898\u001b[0m \u001b[38;5;28;01mif\u001b[39;00m \u001b[38;5;28mlen\u001b[39m(senderrs) \u001b[38;5;241m==\u001b[39m \u001b[38;5;28mlen\u001b[39m(to_addrs):\n\u001b[0;32m    899\u001b[0m     \u001b[38;5;66;03m# the server refused all our recipients\u001b[39;00m\n\u001b[0;32m    900\u001b[0m     \u001b[38;5;28mself\u001b[39m\u001b[38;5;241m.\u001b[39m_rset()\n\u001b[1;32m--> 901\u001b[0m     \u001b[38;5;28;01mraise\u001b[39;00m SMTPRecipientsRefused(senderrs)\n\u001b[0;32m    902\u001b[0m (code, resp) \u001b[38;5;241m=\u001b[39m \u001b[38;5;28mself\u001b[39m\u001b[38;5;241m.\u001b[39mdata(msg)\n\u001b[0;32m    903\u001b[0m \u001b[38;5;28;01mif\u001b[39;00m code \u001b[38;5;241m!=\u001b[39m \u001b[38;5;241m250\u001b[39m:\n",
      "\u001b[1;31mSMTPRecipientsRefused\u001b[0m: {'-f': (553, b'5.1.3 The recipient address <-f> is not a valid RFC-5321 address. Learn more\\n5.1.3 at\\n5.1.3  https://support.google.com/mail/answer/6596 g6-20020a17090ac30600b00233b196fe30sm2153802pjt.20 - gsmtp')}"
     ]
    }
   ],
   "source": [
    "import sys\n",
    "from email.message import EmailMessage\n",
    "import smtplib\n",
    "# sys.argv[2]\n",
    "sender=\"alexdcs2021@gmail.com\"\n",
    "\n",
    "email = EmailMessage()\n",
    "email[\"From\"] = sender\n",
    "email[\"To\"] = \"aj045045@gmail.com\"\n",
    "email[\"Subject\"] = \"ONE TIME PASSWORD\"\n",
    "email.set_content()\n",
    "\n",
    "smtp = smtplib.SMTP_SSL(\"smtp.gmail.com\")\n",
    "smtp.login(sender, \"wuxbpnckyxomyjsq\")\n",
    "smtp.sendmail(sender, sys.argv[1], email.as_string())\n",
    "smtp.quit()\n",
    "print(\"Success full\")"
   ]
  }
 ],
 "metadata": {
  "kernelspec": {
   "display_name": "Python 3 (ipykernel)",
   "language": "python",
   "name": "python3"
  },
  "language_info": {
   "codemirror_mode": {
    "name": "ipython",
    "version": 3
   },
   "file_extension": ".py",
   "mimetype": "text/x-python",
   "name": "python",
   "nbconvert_exporter": "python",
   "pygments_lexer": "ipython3",
   "version": "3.11.1"
  },
  "vscode": {
   "interpreter": {
    "hash": "8a5edab282632443219e051e4ade2d1d5bbc671c781051bf1437897cbdfea0f1"
   }
  }
 },
 "nbformat": 4,
 "nbformat_minor": 5
}
