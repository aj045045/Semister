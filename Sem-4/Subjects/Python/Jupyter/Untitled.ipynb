{
 "cells": [
  {
   "cell_type": "markdown",
   "id": "d23e1a67",
   "metadata": {},
   "source": [
    "# Check it is digit or an alphabet"
   ]
  },
  {
   "cell_type": "code",
   "execution_count": 3,
   "id": "7edd1408",
   "metadata": {},
   "outputs": [
    {
     "name": "stdout",
     "output_type": "stream",
     "text": [
      "INDEX  VALUE\n",
      "0        A \n",
      "1        n \n",
      "2        s \n",
      "3        h \n",
      "4          \n",
      "5        J \n",
      "6          \n",
      "7        Y \n",
      "8        a \n",
      "9        d \n",
      "10        a \n",
      "11        v \n"
     ]
    }
   ],
   "source": [
    "str=input(\"Enter string from user :\")\n",
    "print(\"INDEX  VALUE\")\n",
    "for idx,value in enumerate(str):\n",
    "    print(\"%d        %s \" %(idx,value))"
   ]
  },
  {
   "cell_type": "markdown",
   "id": "fd80c5e0",
   "metadata": {},
   "source": [
    "# Import the expression"
   ]
  },
  {
   "cell_type": "code",
   "execution_count": 2,
   "id": "707c6a27",
   "metadata": {},
   "outputs": [],
   "source": [
    "import re"
   ]
  }
 ],
 "metadata": {
  "kernelspec": {
   "display_name": "Python 3",
   "language": "python",
   "name": "python3"
  },
  "language_info": {
   "codemirror_mode": {
    "name": "ipython",
    "version": 3
   },
   "file_extension": ".py",
   "mimetype": "text/x-python",
   "name": "python",
   "nbconvert_exporter": "python",
   "pygments_lexer": "ipython3",
   "version": "3.11.1"
  },
  "vscode": {
   "interpreter": {
    "hash": "b07011ef23845b0cad56001fd8187a7c428cf39f33a447e76e4f816806f7a7ae"
   }
  }
 },
 "nbformat": 4,
 "nbformat_minor": 5
}
