{
 "cells": [
  {
   "cell_type": "markdown",
   "id": "0c41fe87",
   "metadata": {
    "tags": [
     "Assignment"
    ]
   },
   "source": [
    "# PYTHON Email Codes"
   ]
  },
  {
   "cell_type": "code",
   "execution_count": 2,
   "id": "bcb8254b",
   "metadata": {},
   "outputs": [
    {
     "name": "stdout",
     "output_type": "stream",
     "text": [
      "Success full\n"
     ]
    }
   ],
   "source": [
    "import sys\n",
    "from email.message import EmailMessage\n",
    "import smtplib\n",
    "# sys.argv[2]\n",
    "sender=\"alexdcs2021@gmail.com\"\n",
    "\n",
    "email = EmailMessage()\n",
    "email[\"From\"] = sender\n",
    "email[\"To\"] = \"aj045045@gmail.com\"\n",
    "email[\"Subject\"] = \"ONE TIME PASSWORD\"\n",
    "email.set_content(\"<html><head><body><h1>We have been sent an One Time Password to <b>aj04045@gmail.com<b/><\")\n",
    "\n",
    "smtp = smtplib.SMTP_SSL(\"smtp.gmail.com\")\n",
    "smtp.login(sender, \"wuxbpnckyxomyjsq\")\n",
    "smtp.sendmail(sender, \"aj045045@gmail.com\", email.as_string())\n",
    "smtp.quit()\n",
    "print(\"Success full\")"
   ]
  }
 ],
 "metadata": {
  "kernelspec": {
   "display_name": "Python 3 (ipykernel)",
   "language": "python",
   "name": "python3"
  },
  "language_info": {
   "codemirror_mode": {
    "name": "ipython",
    "version": 3
   },
   "file_extension": ".py",
   "mimetype": "text/x-python",
   "name": "python",
   "nbconvert_exporter": "python",
   "pygments_lexer": "ipython3",
   "version": "3.11.1"
  },
  "vscode": {
   "interpreter": {
    "hash": "8a5edab282632443219e051e4ade2d1d5bbc671c781051bf1437897cbdfea0f1"
   }
  }
 },
 "nbformat": 4,
 "nbformat_minor": 5
}
