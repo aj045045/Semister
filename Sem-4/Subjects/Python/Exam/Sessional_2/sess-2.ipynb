{
 "cells": [
  {
   "cell_type": "markdown",
   "id": "f8166f3d",
   "metadata": {},
   "source": [
    "# Generator Examples"
   ]
  },
  {
   "cell_type": "code",
   "execution_count": 8,
   "id": "019d9d58",
   "metadata": {},
   "outputs": [
    {
     "name": "stdout",
     "output_type": "stream",
     "text": [
      "0\n",
      "1\n",
      "2\n",
      "3\n"
     ]
    }
   ],
   "source": [
    "def myGenerator(n):\n",
    "    value = 0\n",
    "    while value <n:\n",
    "        yield value\n",
    "        value +=1\n",
    "for x in myGenerator(4):\n",
    "    print(x)"
   ]
  },
  {
   "cell_type": "markdown",
   "id": "5127d319",
   "metadata": {},
   "source": [
    "# Next Keywords\n",
    "- Will return a value store in yield "
   ]
  },
  {
   "cell_type": "code",
   "execution_count": 9,
   "id": "986f4250",
   "metadata": {},
   "outputs": [
    {
     "name": "stdout",
     "output_type": "stream",
     "text": [
      "0\n"
     ]
    }
   ],
   "source": [
    "def myGenerator(n):\n",
    "    value = 0\n",
    "    while value <n:\n",
    "        yield value\n",
    "        value +=1\n",
    "generator = myGenerator(4)\n",
    "print(next(generator))"
   ]
  }
 ],
 "metadata": {
  "kernelspec": {
   "display_name": "Python 3 (ipykernel)",
   "language": "python",
   "name": "python3"
  },
  "language_info": {
   "codemirror_mode": {
    "name": "ipython",
    "version": 3
   },
   "file_extension": ".py",
   "mimetype": "text/x-python",
   "name": "python",
   "nbconvert_exporter": "python",
   "pygments_lexer": "ipython3",
   "version": "3.11.1"
  }
 },
 "nbformat": 4,
 "nbformat_minor": 5
}
