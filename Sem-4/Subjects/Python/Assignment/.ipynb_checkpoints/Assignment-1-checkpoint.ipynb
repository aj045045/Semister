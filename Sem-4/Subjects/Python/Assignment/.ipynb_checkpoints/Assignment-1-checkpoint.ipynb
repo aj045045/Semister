{
 "cells": [
  {
   "cell_type": "markdown",
   "id": "0c1b49ae",
   "metadata": {},
   "source": [
    "## 1. Write a Python program to sum of all the items in a list"
   ]
  },
  {
   "cell_type": "code",
   "execution_count": 5,
   "id": "5a5b82d3",
   "metadata": {},
   "outputs": [
    {
     "name": "stdout",
     "output_type": "stream",
     "text": [
      "Sum of the array element ([12, 11]) is : 23\n"
     ]
    }
   ],
   "source": [
    "var=[12,11]\n",
    "s=0\n",
    "for i in var:\n",
    "    s=s+i\n",
    "print(f\"Sum of the array element ({var}) is : {s}\")"
   ]
  },
  {
   "cell_type": "markdown",
   "id": "bbb2fb11",
   "metadata": {},
   "source": [
    "## 2.\tWrite a Python program to get the largest number from a list\n"
   ]
  },
  {
   "cell_type": "code",
   "execution_count": 6,
   "id": "c6fb855d",
   "metadata": {},
   "outputs": [
    {
     "name": "stdout",
     "output_type": "stream",
     "text": [
      "Largest value from an array is : 893\n"
     ]
    }
   ],
   "source": [
    "arr = [19,111,893,736,300,2,12,360]\n",
    "var = arr[1]\n",
    "for j in arr:\n",
    "    if j > var:\n",
    "        var = j\n",
    "print(\"Largest value from an array is :\",var)"
   ]
  },
  {
   "cell_type": "markdown",
   "id": "e65a9fe7",
   "metadata": {},
   "source": [
    "## 3.\tWrite a Python program to count the number of strings from a given list of  strings. The string length is 2 or more and the first and last characters are the same.\n"
   ]
  },
  {
   "cell_type": "code",
   "execution_count": 10,
   "id": "60ebe7d7",
   "metadata": {},
   "outputs": [
    {
     "name": "stdout",
     "output_type": "stream",
     "text": [
      "String which is More than 2 letter and First Last is Same\n",
      "* Narayan\n",
      "* Rrr\n"
     ]
    }
   ],
   "source": [
    "arr = [\"Ajay\",\"Ansh\",\"Narayan\",\"Subham\",\"rrr\"]\n",
    "print(\"String which is More than 2 letter and First Last is Same\")     \n",
    "for i in arr:\n",
    "    i = i.lower()\n",
    "    if len(i) >= 2 and i[0] == i[-1]:\n",
    "        print(\"*\",i.capitalize())"
   ]
  },
  {
   "cell_type": "markdown",
   "id": "91975f8c",
   "metadata": {},
   "source": [
    " ## 4.\tWrite a Python program to remove duplicates from a list. "
   ]
  },
  {
   "cell_type": "code",
   "execution_count": 15,
   "id": "85aec717",
   "metadata": {},
   "outputs": [
    {
     "name": "stdout",
     "output_type": "stream",
     "text": [
      "After removing Duplicates value ['Amitabh', 'Bachan', 'Hiyaa']\n"
     ]
    }
   ],
   "source": [
    "arr = [\"Amitabh\",\"Bachan\",\"Hiyaa\",\"Hiyaa\"]\n",
    "temp_arr = []\n",
    "for i in arr:\n",
    "    if i not in temp_arr:\n",
    "        temp_arr.append(i) \n",
    "arr = temp_arr\n",
    "print(\"After removing Duplicates value\" ,arr)"
   ]
  },
  {
   "cell_type": "markdown",
   "id": "e3f6052d",
   "metadata": {},
   "source": [
    "## 5.\tTake two lists and returns True if they have at least one common member.\n"
   ]
  },
  {
   "cell_type": "code",
   "execution_count": 20,
   "id": "0f6409b7",
   "metadata": {},
   "outputs": [
    {
     "name": "stdout",
     "output_type": "stream",
     "text": [
      "We have False matched value between two arrays\n"
     ]
    }
   ],
   "source": [
    "list1 = [6,\"AK\",7,\"VK\",8,\"AJ\"]\n",
    "list2 = [61,5,3,2,81]\n",
    "output = False\n",
    "for idx_lst1 in list1:\n",
    "    for idx_lst2 in list2:\n",
    "        if idx_lst1 == idx_lst2:\n",
    "            output = True\n",
    "            break\n",
    "print (f\"We have {output} matched value between two arrays\")"
   ]
  },
  {
   "cell_type": "markdown",
   "id": "da46e03f",
   "metadata": {},
   "source": [
    "## 6.\tPrint a specified list after removing the 2th, 4th and 6th elements."
   ]
  },
  {
   "cell_type": "code",
   "execution_count": 48,
   "id": "16eca9f8",
   "metadata": {},
   "outputs": [
    {
     "name": "stdout",
     "output_type": "stream",
     "text": [
      "BEFORE removing the 2, 4 and 6 element from array [10, 20, 30, 40, 50, 60, 70]\n",
      "AFTER removing the 2, 4 and 6 element from array [10, 30, 50, 70]\n"
     ]
    }
   ],
   "source": [
    "arr = [10,20,30,40,50,60,70]\n",
    "print(\"BEFORE removing the 2, 4 and 6 element from array\",arr)\n",
    "increment = 1\n",
    "value = len(arr)/2\n",
    "for i in range(3):\n",
    "    arr.remove(arr[i+1]) \n",
    "print(\"AFTER removing the 2, 4 and 6 element from array\",arr)"
   ]
  },
  {
   "cell_type": "markdown",
   "id": "d7756dfc",
   "metadata": {},
   "source": [
    "## 7.\tFind the average of 10 numbers using while loop"
   ]
  },
  {
   "cell_type": "code",
   "execution_count": 66,
   "id": "e730a0cf",
   "metadata": {},
   "outputs": [
    {
     "name": "stdout",
     "output_type": "stream",
     "text": [
      "The total of first 10 number is 55, its average is 5.5\n"
     ]
    }
   ],
   "source": [
    "total = value = 0\n",
    "while value < 10:\n",
    "    value +=1\n",
    "    total += value \n",
    "avg = total / 10\n",
    "print(f\"The total of first 10 number is {total}, its average is {avg}\")"
   ]
  },
  {
   "cell_type": "markdown",
   "id": "916c0699",
   "metadata": {},
   "source": [
    "## 8.\tDisplay the given integer in a reverse manner"
   ]
  },
  {
   "cell_type": "code",
   "execution_count": 88,
   "id": "ac2921b4",
   "metadata": {},
   "outputs": [
    {
     "name": "stdout",
     "output_type": "stream",
     "text": [
      "Enter the number to make it reverse :1 2 3\n",
      "[3, 2, 1]\n"
     ]
    }
   ],
   "source": [
    "num = input(\"Enter the number to make it reverse :\")\n",
    "num = num.split()\n",
    "temp=[]\n",
    "val = len(num)\n",
    "while 0 < val:\n",
    "    temp.append(val)\n",
    "    val-=1\n",
    "print(temp)"
   ]
  },
  {
   "cell_type": "markdown",
   "id": "63e231fa",
   "metadata": {},
   "source": [
    "## 9.\tFind the sum of the digits of an integer using a while loop\n"
   ]
  },
  {
   "cell_type": "code",
   "execution_count": 7,
   "id": "03f22de3",
   "metadata": {},
   "outputs": [
    {
     "name": "stdout",
     "output_type": "stream",
     "text": [
      "Sum of the all digit number is : 45\n"
     ]
    }
   ],
   "source": [
    "def sumOfDigit(n):\n",
    "    sum = 0\n",
    "    num_str = str(n)\n",
    "    i = 0\n",
    "    while i < len(num_str):\n",
    "        digit = int(num_str[i])\n",
    "        sum += digit\n",
    "        i += 1\n",
    "    return sum\n",
    "print(\"Sum of the all digit number is :\",sumOfDigit(1234567890))"
   ]
  },
  {
   "cell_type": "markdown",
   "id": "e1b4c7c6",
   "metadata": {},
   "source": [
    "## 10.\tFind the factorial of a number using recursion\n"
   ]
  },
  {
   "cell_type": "code",
   "execution_count": 8,
   "id": "58f716ca",
   "metadata": {},
   "outputs": [
    {
     "name": "stdout",
     "output_type": "stream",
     "text": [
      "Factorials of 10 : 3628800\n"
     ]
    }
   ],
   "source": [
    "def factorial(n): \n",
    "    if n == 1:\n",
    "        return 1\n",
    "    else:\n",
    "        return n * factorial(n-1)\n",
    "print(\"Factorials of 10 :\",fact(10))"
   ]
  },
  {
   "cell_type": "markdown",
   "id": "766a91bc",
   "metadata": {},
   "source": [
    "## 11.\tCalculate the difference between the two lists\n"
   ]
  },
  {
   "cell_type": "code",
   "execution_count": 6,
   "id": "e68a7002",
   "metadata": {},
   "outputs": [
    {
     "name": "stdout",
     "output_type": "stream",
     "text": [
      "List that have difference between the two list are [3, 4, 5, 6, 9]\n"
     ]
    }
   ],
   "source": [
    "arr1 = [1,2,3,4,5]\n",
    "arr2 = [1,2,6,9]\n",
    "arr3 = []\n",
    "for idx_arr1 in arr1:\n",
    "    if idx_arr1 not in arr2:\n",
    "        arr3.append(idx_arr1)\n",
    "for idx_arr2 in arr2:\n",
    "    if idx_arr2 not in arr1:\n",
    "        arr3.append(idx_arr2)\n",
    "print(\"List that have difference between the two list are\",arr3) "
   ]
  },
  {
   "cell_type": "markdown",
   "id": "5ec9916b",
   "metadata": {},
   "source": [
    "## 12.\tInsert an element before each element of a list.\n"
   ]
  },
  {
   "cell_type": "code",
   "execution_count": 14,
   "id": "681b4a4a",
   "metadata": {},
   "outputs": [
    {
     "name": "stdout",
     "output_type": "stream",
     "text": [
      "Enter the element to insert before each element :123\n",
      "[123, 1, 123, 2, 123, 3, 123, 4, 123, 5, 123, 6, 123, 7, 123, 8, 123, 9]\n"
     ]
    }
   ],
   "source": [
    "data=(1,2,3,4,5,6,7,8,9)\n",
    "data2=[]\n",
    "val=int(input(\"Enter the element to insert before each element :\"))\n",
    "for d in data:\n",
    "    data2.append(val)\n",
    "    data2.append(d)\n",
    "print(data2)"
   ]
  },
  {
   "cell_type": "markdown",
   "id": "3ea7ea54",
   "metadata": {},
   "source": [
    "## 13.\tPrint the numbers of a specified list after removing even numbers from it"
   ]
  },
  {
   "cell_type": "code",
   "execution_count": 86,
   "id": "f1af36bb",
   "metadata": {},
   "outputs": [
    {
     "name": "stdout",
     "output_type": "stream",
     "text": [
      "Array after removing the even number element [1, 3, 5, 17, 7]\n"
     ]
    }
   ],
   "source": [
    "jamesBond = [1,12,3,14,5,16,6,17,7,18,8,78]\n",
    "tmp_arr = []\n",
    "for N in jamesBond:\n",
    "    if N % 2 != 0:\n",
    "        tmp_arr.append(N)\n",
    "print(\"Array after removing the eve number element\",tmp_arr)"
   ]
  },
  {
   "cell_type": "markdown",
   "id": "b8feeb86",
   "metadata": {},
   "source": [
    "## 14.\tWrite a Python program to find the list of words that are longer than n from a given list of words."
   ]
  },
  {
   "cell_type": "code",
   "execution_count": 19,
   "id": "bf287691",
   "metadata": {
    "scrolled": true
   },
   "outputs": [
    {
     "name": "stdout",
     "output_type": "stream",
     "text": [
      "Enter the size = 4\n",
      "This is the word which is larger then are :\n",
      "4 - steve\n",
      "4 - peter\n"
     ]
    }
   ],
   "source": [
    "name = [\"steve\" , \"tony\" , \"peter\" , \"thor\" , \"mj\" , \"gwen\"]\n",
    "n = int(input(\"Enter the size = \"))\n",
    "print('This is the word which is larger then are :')\n",
    "for names in name:\n",
    "    if len(names) > n:\n",
    "        print(  str(n) + \" - \" + names)"
   ]
  },
  {
   "cell_type": "markdown",
   "id": "7107c972",
   "metadata": {},
   "source": [
    "## 15.\tWrite a Python function that takes two lists and returns True if they have at least one common member."
   ]
  },
  {
   "cell_type": "code",
   "execution_count": 20,
   "id": "97a84c35",
   "metadata": {
    "scrolled": true
   },
   "outputs": [
    {
     "name": "stdout",
     "output_type": "stream",
     "text": [
      "They have alteast one common value : True\n"
     ]
    }
   ],
   "source": [
    "list1 = [\"AV\" , 45 , \"EN\" , 33 , \"GE\" , 34 , \"RS\" , 5 ]\n",
    "list2 = [\"AS\" , 45 , \"SE\" , 644 , \"MB\" , 75 , \"LE\" , 78 ]\n",
    "check = False\n",
    "for v in list1:\n",
    "    if v in list2:\n",
    "        check = True \n",
    "print(\"They have alteast one common value :\",str(check))"
   ]
  },
  {
   "cell_type": "markdown",
   "id": "b5efd471",
   "metadata": {},
   "source": [
    "## 16.\tPython program to check leap year"
   ]
  },
  {
   "cell_type": "code",
   "execution_count": 26,
   "id": "c58bcb6f",
   "metadata": {},
   "outputs": [
    {
     "name": "stdout",
     "output_type": "stream",
     "text": [
      "Enter the year - 2024\n",
      "This is leap year\n"
     ]
    }
   ],
   "source": [
    "year = int(input(\"Enter the year - \"))\n",
    "if year % 4 == 0 or year % 400 == 0 :\n",
    "    print(\"This is leap year\")\n",
    "else:\n",
    "    print(\"This is not a Leap year\")"
   ]
  },
  {
   "cell_type": "markdown",
   "id": "ddca38a0",
   "metadata": {},
   "source": [
    "## 17.\tRemove duplicates from a list of lists."
   ]
  },
  {
   "cell_type": "code",
   "execution_count": 27,
   "id": "62416517",
   "metadata": {},
   "outputs": [
    {
     "name": "stdout",
     "output_type": "stream",
     "text": [
      "List after removing the duplicate value [[12, 1], [12, 'fg'], [2, 11]]\n"
     ]
    }
   ],
   "source": [
    "arr = [ [12,1] , [12,\"fg\"] , [12,1] , [2,11] , [12,1] ]\n",
    "tmp_arr = []\n",
    "for i in arr:\n",
    "    if i not in tmp_arr:\n",
    "        tmp_arr.append(i)\n",
    "print(\"List after removing the duplicate value\",tmp_arr)"
   ]
  },
  {
   "cell_type": "markdown",
   "id": "6ad33f38",
   "metadata": {},
   "source": [
    "## 18.\tWrite a Python program to print a list after removing the 0th, 4th and 5th elements"
   ]
  },
  {
   "cell_type": "code",
   "execution_count": 99,
   "id": "15aa473e",
   "metadata": {},
   "outputs": [
    {
     "name": "stdout",
     "output_type": "stream",
     "text": [
      "Array Before removing the 0, 4, 5 element  [1, 3, 5, 6, 7, 8, 34, 343, 75]\n",
      "Array after removing the 0, 4, 5 element  [3, 5, 6, 34, 343, 75]\n"
     ]
    }
   ],
   "source": [
    "list1 = [1 , 3, 5 , 6,7 ,8 ,34,343 , 75 ]\n",
    "appendList = []\n",
    "for i in range(len(list1)):\n",
    "    if i != 0 and i != 4 and i!= 5:\n",
    "        appendList.append(list1[i])\n",
    "print(\"Array Before removing the 0, 4, 5 element \",list1)        \n",
    "print(\"Array after removing the 0, 4, 5 element \",appendList)"
   ]
  },
  {
   "cell_type": "markdown",
   "id": "bfe3e84e",
   "metadata": {},
   "source": [
    "## 19.\tWrite a Python program to convert a list of multiple integers into a single integer."
   ]
  },
  {
   "cell_type": "code",
   "execution_count": 104,
   "id": "f05dcd8d",
   "metadata": {},
   "outputs": [
    {
     "name": "stdout",
     "output_type": "stream",
     "text": [
      "List of integer : [1, 2, 3, 4, 5, 6, 7, 8, 8, 9, 9]\n",
      "List of multiple interger into single integer : 12345678899\n"
     ]
    }
   ],
   "source": [
    "list1 = [1,2,3,4,5,6,7,8,8,9,9]\n",
    "tmp_list = int(''.join(map(str,list1)))\n",
    "print(\"List of integer :\",list1)\n",
    "print(\"List of multiple interger into single integer :\",tmp_list)"
   ]
  },
  {
   "cell_type": "code",
   "execution_count": 33,
   "id": "422c2905",
   "metadata": {},
   "outputs": [
    {
     "name": "stdout",
     "output_type": "stream",
     "text": [
      "After removing the consecutive element from the list : [1, 3, 4, 7, 2, 23, 2, '13', 2, 'Alex', 'Ajay']\n"
     ]
    }
   ],
   "source": [
    "# 20.\tRemove consecutive (following each other continuously) duplicates (elements) from a given list.\n",
    "\n",
    "def func(lst):\n",
    "    result = []\n",
    "    for item in lst:\n",
    "        if len(result) == 0 or item != result[-1]:\n",
    "            result.append(item)\n",
    "    return result\n",
    "my_list = [1, 3, 3, 3, 3, 3, 4, 7, 2, 23, 2, \"13\", \"13\", 2, \"Alex\",\"Ajay\"]\n",
    "my_list = func(my_list)\n",
    "print(\"After removing the consecutive element from the list :\",my_list)"
   ]
  },
  {
   "cell_type": "code",
   "execution_count": 36,
   "id": "1ab7adf9",
   "metadata": {},
   "outputs": [
    {
     "name": "stdout",
     "output_type": "stream",
     "text": [
      "Enter the number - 5\n",
      "It is a prime number\n"
     ]
    }
   ],
   "source": [
    "# 21.\tGenerate the prime numbers from 1 to N\n",
    "\n",
    "def generate_primes(num):\n",
    "    if num > 1:\n",
    "        for i in range(2,num):\n",
    "            if (num % i) == 0:\n",
    "                return 0\n",
    "                break\n",
    "\n",
    "nums = int(input(\"Enter the number - \"))\n",
    "primes = generate_primes(nums)\n",
    "if primes == 0:\n",
    "    print(\"It is not a prime number\")\n",
    "else:\n",
    "    print(\"It is a prime number\")"
   ]
  },
  {
   "cell_type": "code",
   "execution_count": 38,
   "id": "83c4d84b",
   "metadata": {},
   "outputs": [
    {
     "name": "stdout",
     "output_type": "stream",
     "text": [
      "Number of string you want to check :3\n",
      "\n",
      "Enter the string to check the palidrome :ansh\n",
      "- It is not a Palindrome\n",
      "\n",
      "Enter the string to check the palidrome :yadav\n",
      "- It is not a Palindrome\n",
      "\n",
      "Enter the string to check the palidrome :ansha\n",
      "- It is a palindrome\n"
     ]
    }
   ],
   "source": [
    "# 22.\tCheck whether a string is palindrome or not\n",
    "\n",
    "num = int(input(\"Number of string you want to check :\"))\n",
    "for i in range(num):\n",
    "    str1 = str(input(\"\\nEnter the string to check the palidrome :\"))\n",
    "    if str1[-1] == str1[0]:\n",
    "        print(\"- It is a palindrome\")\n",
    "    else:\n",
    "        print(\"- It is not a Palindrome\")"
   ]
  },
  {
   "cell_type": "code",
   "execution_count": 30,
   "id": "6dc9c3ba",
   "metadata": {},
   "outputs": [
    {
     "name": "stdout",
     "output_type": "stream",
     "text": [
      "Enter the string :We are Developer\n",
      "Enter the string :We are here to became a Developer\n",
      "\n",
      "list of strings are equal to a second string : ['We', 'are', 'Developer']\n"
     ]
    }
   ],
   "source": [
    "# 23.\tWrite a Python program to check if all items in a given \"list of strings are equal to a given string.\",\n",
    "\n",
    "str1 = str(input(\"Enter the string :\")).split()\n",
    "list1 = []\n",
    "str2 = str(input(\"Enter the string :\")).split()\n",
    "for v_str in str1:\n",
    "    if v_str in str2:\n",
    "        list1.append(v_str)\n",
    "print(\"\\nlist of strings are equal to a second string :\",list1)"
   ]
  },
  {
   "cell_type": "code",
   "execution_count": 41,
   "id": "5676dad3",
   "metadata": {},
   "outputs": [
    {
     "name": "stdout",
     "output_type": "stream",
     "text": [
      "Enter the N term - 10\n",
      "The 10 Fibonacci series is 55.\n"
     ]
    }
   ],
   "source": [
    "# 24.\tFind the Nth term in a Fibonacci series using recursion\n",
    "\n",
    "def fibonacci(n):\n",
    "    if n <= 1:\n",
    "        return n\n",
    "    else:\n",
    "        return fibonacci(n-1) + fibonacci(n-2)\n",
    "    \n",
    "num = int(input(\"Enter the N term - \"))\n",
    "func_call = fibonacci(num)\n",
    "print(f\"The {num} Fibonacci series is {func_call}.\")"
   ]
  },
  {
   "cell_type": "code",
   "execution_count": 10,
   "id": "42b2fd3f",
   "metadata": {},
   "outputs": [
    {
     "name": "stdout",
     "output_type": "stream",
     "text": [
      "Move all zero digits to the end\n",
      " [1, 4, 5, 5, 3, 1, 9, 4, 6, 0, 0, 0]\n"
     ]
    }
   ],
   "source": [
    " '''\n",
    " 25.\tWrite a Python program to move all zero digits to\n",
    "       the end of a given list of numbers.\n",
    " '''\n",
    "number = [1, 4, 5 ,0 ,5 ,3 ,0 ,1 ,9 ,0 ,4 ,6 ]\n",
    "for i in range(number.count(0)):\n",
    "    number.remove(0)\n",
    "    number.append(0)\n",
    "print(\"Move all zero digits to the end\\n\",number)"
   ]
  },
  {
   "cell_type": "code",
   "execution_count": 12,
   "id": "0fb092b8",
   "metadata": {},
   "outputs": [
    {
     "name": "stdout",
     "output_type": "stream",
     "text": [
      "111 is Highest of FOUR LIST\n"
     ]
    }
   ],
   "source": [
    "# 26.\tWrite a Python program to find the list in a list of lists whose sum of elements is the highest.\n",
    "\n",
    "a=[[21,2,13] , [111,12,13] , [43,1,1] , [422,21,1]]\n",
    "f1 = 0\n",
    "f2 = 0\n",
    "f3 = 0\n",
    "f4 = 0\n",
    "j=0\n",
    "r=0\n",
    "for i in a:\n",
    "    for i2 in i:\n",
    "        j += i2\n",
    "        r+=1\n",
    "        if r==1 :\n",
    "            f1=j\n",
    "        elif r==2 :\n",
    "            f2=j\n",
    "        elif r==3 :\n",
    "            f3=j\n",
    "        elif r==4 :\n",
    "            f4=j\n",
    "        j=0\n",
    "if f1 >= f2 and f1 >= f3 and f1 >= f4 :\n",
    "    print(f1, \"is Highest of FISRT LIST\")\n",
    "if f2 >= f1 and f2 >= f3 and f2 >= f4 :\n",
    "    print(f2, \"is Highest of SECOND LIST\")\n",
    "if f3 >= f2 and f3 >= f2 and f3 >= f4 :\n",
    "    print(f3, \"is Highest of THIRD LIST\")\n",
    "if f4 >= f2 and f4 >= f3 and f4 >= f1 :\n",
    "    print(f4, \"is Highest of FOUR LIST\")  "
   ]
  },
  {
   "cell_type": "code",
   "execution_count": 4,
   "id": "f579c4a7",
   "metadata": {},
   "outputs": [
    {
     "name": "stdout",
     "output_type": "stream",
     "text": [
      "ORGINAL IS  ['Rox', 'stark', 'Data', '42', '890', 'Data', 'Interpreter', '89', '420', '890']\n",
      "Enter the Data Name you want to remove from list - Data\n",
      "\n",
      "RESULT IS  ['Rox', 'stark', '42', '890', 'Interpreter', '89', '420', '890']\n"
     ]
    }
   ],
   "source": [
    "# 27.\tRemove all occurrences of a specific item from a list.\n",
    " \n",
    "rest=[\"Rox\" , \"stark\" , \"Data\" , \"42\" , \"890\" , \"Data\" , \"Interpreter\" , \"89\" ,\"420\" , \"890\"]\n",
    "rest2=[]\n",
    "print(\"ORGINAL IS \" , rest)\n",
    "val=input(\"Enter the Data Name you want to remove from list - \")\n",
    "for i in rest:\n",
    "    if i != val:\n",
    "        rest2.append(i)\n",
    "print(\"\\nRESULT IS \" , rest2)    "
   ]
  },
  {
   "cell_type": "code",
   "execution_count": 6,
   "id": "4d51ce5f",
   "metadata": {},
   "outputs": [
    {
     "name": "stdout",
     "output_type": "stream",
     "text": [
      "Enter a Number - 343\n",
      "__ PRIME __\n"
     ]
    }
   ],
   "source": [
    "# 28.\tCheck whether the given integer is a prime number or not\n",
    "\n",
    "num=int(input(\"Enter a Number - \"))\n",
    "output = False\n",
    "for i in range(2,num-1):\n",
    "    if num %i == 0:\n",
    "        output = True\n",
    "if output == True:\n",
    "    print(\"__ PRIME __\")\n",
    "elif output == False:\n",
    "    print(\"__ NOT __ PRIME __\")        "
   ]
  },
  {
   "cell_type": "code",
   "execution_count": 10,
   "id": "3cdc1aeb",
   "metadata": {},
   "outputs": [
    {
     "name": "stdout",
     "output_type": "stream",
     "text": [
      "Enter the n number to print :5\n",
      "5\n",
      "4\n",
      "3\n",
      "2\n",
      "1\n",
      "0\n"
     ]
    }
   ],
   "source": [
    "# 29.\tPrint the numbers from a given number n till 0 using recursion\n",
    " \n",
    "def print_numbers(n):\n",
    "    if n == -1:\n",
    "        return\n",
    "    else:\n",
    "        print(n)\n",
    "        print_numbers(n - 1)\n",
    "num = int(input(\"Enter the n number to print :\"))\n",
    "print_numbers(num)"
   ]
  },
  {
   "cell_type": "code",
   "execution_count": 16,
   "id": "6bc29c83",
   "metadata": {},
   "outputs": [
    {
     "name": "stdout",
     "output_type": "stream",
     "text": [
      "Matrix multipication output\n",
      "[34, 37]\n",
      "[100, 109]\n"
     ]
    }
   ],
   "source": [
    "# 30.\tPython program to implement matrix multiplication\n",
    "A = [[1, 2],\n",
    "     [4, 5]]\n",
    "B = [[10, 11],\n",
    "     [12, 13]]\n",
    "C = [[0, 0],\n",
    "     [0, 0]]\n",
    "for i in range(len(A)):\n",
    "    for j in range(len(B[0])):\n",
    "        for k in range(len(B)):\n",
    "            C[i][j] += A[i][k] * B[k][j]\n",
    "print(\"Matrix multipication output\")  \n",
    "for row in C:\n",
    "    print(row)"
   ]
  },
  {
   "cell_type": "code",
   "execution_count": 17,
   "id": "7ad5fb4c",
   "metadata": {},
   "outputs": [
    {
     "name": "stdout",
     "output_type": "stream",
     "text": [
      "[[0.12308134946251892, 0.30363929128712386, 0.571118860424699], [0.7395793437823447, 0.3857423953286664, 0.16237256344690132], [0.8806383750003258, 0.6918334721239034, 0.6915657951266021]]\n"
     ]
    }
   ],
   "source": [
    "# 31.\tCreate a multidimensional list (lists of lists) with random values\n",
    "\n",
    "import random\n",
    "rows = 3 \n",
    "cols = 3\n",
    "depth = 1\n",
    "avengers = [[random.random() for k in range(depth) for j in range(cols) ] for i in range(rows)]\n",
    "print (avengers)"
   ]
  },
  {
   "cell_type": "code",
   "execution_count": 24,
   "id": "be5c6f2f",
   "metadata": {},
   "outputs": [
    {
     "name": "stdout",
     "output_type": "stream",
     "text": [
      "Enter a Key Search :B\n",
      "Yes it is present in dictionary\n"
     ]
    }
   ],
   "source": [
    "# 32.\tCheck whether a given key already exists in a dictionary\n",
    "\n",
    "hf = {'A' :\"AGENT\", 'B' :\"BOSS\", 'C' :\"CEMENT\" , 'D' :\"DIAMOND\"}\n",
    "search_key = input(\"Enter a Key Search :\")\n",
    "if search_key in hf:\n",
    "    print(\"Yes it is present in dictionary\")\n",
    "else:\n",
    "    print(\"Not present in the dictionary\")"
   ]
  },
  {
   "cell_type": "code",
   "execution_count": 28,
   "id": "69e56eaa",
   "metadata": {},
   "outputs": [
    {
     "name": "stdout",
     "output_type": "stream",
     "text": [
      "After merging the 2 dictionaries \n",
      " {'A': 'AGENT', 'B': 'BOSS', 'C': 'CEMENT', 'D': 'DIAMOND'}\n"
     ]
    }
   ],
   "source": [
    "# 33.\tMerge two Python dictionaries\n",
    "\n",
    "dic1 = {'A' :\"AGENT\", 'B' :\"BOSS\"}\n",
    "dic2 = {'C' :\"CEMENT\" , 'D' :\"DIAMOND\"}\n",
    "returnDic = {}\n",
    "for key, value in dic1.items():\n",
    "    returnDic[key] = value\n",
    "for key, value in dic2.items():\n",
    "    returnDic[key] = value\n",
    "print(\"After merging the 2 dictionaries \\n\",returnDic)"
   ]
  },
  {
   "cell_type": "code",
   "execution_count": 34,
   "id": "957e5b0f",
   "metadata": {},
   "outputs": [
    {
     "name": "stdout",
     "output_type": "stream",
     "text": [
      "Enter number to multiply with all element in dictionary :23\n",
      "\n",
      "Dictionary after multipication to all items\n",
      " {'A': 230, 'B': 690, 'C': 460, 'D': 920}\n"
     ]
    }
   ],
   "source": [
    "# 34.\tMultiply all the items in a dictionary\n",
    "dic = {'A' : 10 , 'B' : 30 , 'C' : 20 , 'D' : 40 }\n",
    "num = int(input(\"Enter number to multiply with all element in dictionary :\"))\n",
    "for key,value in dic.items():\n",
    "    dic[key] = value * num\n",
    "print(\"\\nDictionary after multipication to all items\\n\",dic)"
   ]
  },
  {
   "cell_type": "code",
   "execution_count": 36,
   "id": "4765c354",
   "metadata": {},
   "outputs": [
    {
     "name": "stdout",
     "output_type": "stream",
     "text": [
      "Dictionary after sorting by key :\n",
      " {3: 'CVF', 12: 'ABC', 90: 'F'}\n"
     ]
    }
   ],
   "source": [
    "# 35.\tSort a given dictionary by key\n",
    "\n",
    "dic = {12:\"ABC\",3:\"CVF\",90:\"F\"}\n",
    "sorted_dict = {}\n",
    "keys = list(dic.keys())\n",
    "for i in range(len(keys)):\n",
    "    for j in range(len(keys) - i - 1):\n",
    "        if keys[j] > keys[j+1]:\n",
    "            keys[j], keys[j+1] = keys[j+1], keys[j]\n",
    "for key in keys:\n",
    "    sorted_dict[key] = dic[key]\n",
    "print(\"Dictionary after sorting by key :\\n\",sorted_dict)"
   ]
  },
  {
   "cell_type": "code",
   "execution_count": 39,
   "id": "1d946bc3",
   "metadata": {},
   "outputs": [
    {
     "name": "stdout",
     "output_type": "stream",
     "text": [
      "Dictionary without duplicate values :\n",
      " {'key1': 'value1', 'key2': 'value2', 'key4': 'value3'}\n"
     ]
    }
   ],
   "source": [
    "# 36.\t create a new dictionary without duplicates\n",
    " \n",
    "dic = {'key1': 'value1', 'key2': 'value2', 'key3': 'value1', 'key4': 'value3', 'key5': 'value2'}\n",
    "dicWithOutDuplicate = {}\n",
    "for key, value in dic.items():\n",
    "    if value not in dicWithOutDuplicate.values():\n",
    "        dicWithOutDuplicate[key] = value\n",
    "print(\"Dictionary without duplicate values :\\n\",dicWithOutDuplicate)"
   ]
  },
  {
   "cell_type": "code",
   "execution_count": 42,
   "id": "e94b11ae",
   "metadata": {},
   "outputs": [
    {
     "name": "stdout",
     "output_type": "stream",
     "text": [
      "Two dictionary by adding values for common keys\n",
      " {1: 11, 9: 66, 2: 21, 6: 66, 3: 64}\n"
     ]
    }
   ],
   "source": [
    "# 37.\tCombine two dictionary by adding values for common keys\n",
    "\n",
    "h1 = {1:11,3:31,9:66}\n",
    "h2 = {2:21,3:33,6:66}\n",
    "res={}\n",
    "for key in h1:\n",
    "    if key not in h2:\n",
    "        res[key]=h1[key]\n",
    "for key in h2:\n",
    "    if key not in h1:\n",
    "        res[key]=h2[key]\n",
    "for key in h1:\n",
    "    if key in h2:\n",
    "        res[key]=h1[key]+h2[key]\n",
    "print(\"Two dictionary by adding values for common keys\\n\",res)"
   ]
  },
  {
   "cell_type": "code",
   "execution_count": 46,
   "id": "bb3ad819",
   "metadata": {},
   "outputs": [
    {
     "name": "stdout",
     "output_type": "stream",
     "text": [
      "Remove spaces from dictionary keys\n",
      " {'Shallwecan': 11, 'LevelisDown': 22, 'FastasBees': 33}\n"
     ]
    }
   ],
   "source": [
    "# 38.\tRemove spaces from dictionary keys\n",
    "dic = {'Shall we can ': 11, 'Level is Down': 22, 'Fast as Bees': 33}\n",
    "tmp_dic = {}\n",
    "for key, value in dic.items():\n",
    "    new_key = ''\n",
    "    for char in key:\n",
    "        if char != ' ':\n",
    "            new_key += char\n",
    "    tmp_dic[new_key] = value\n",
    "print(\"Remove spaces from dictionary keys\\n\",tmp_dic)"
   ]
  },
  {
   "cell_type": "code",
   "execution_count": 47,
   "id": "990d853b",
   "metadata": {},
   "outputs": [
    {
     "name": "stdout",
     "output_type": "stream",
     "text": [
      "Keys: dict_keys(['apple', 'banana', 'orange'])\n",
      "Values: dict_values([2, 3, 5])\n",
      "Items: dict_items([('apple', 2), ('banana', 3), ('orange', 5)])\n"
     ]
    }
   ],
   "source": [
    "# 39.\tGet the key, value and item in a dictionary(answer copied)\n",
    "my_dict = {\"apple\": 2, \"banana\": 3, \"orange\": 5}\n",
    "keys = my_dict.keys()\n",
    "values = my_dict.values()\n",
    "items = my_dict.items()\n",
    "print(\"Keys:\", keys)\n",
    "print(\"Values:\", values)\n",
    "print(\"Items:\", items)    "
   ]
  },
  {
   "cell_type": "code",
   "execution_count": 48,
   "id": "9cf1d901",
   "metadata": {},
   "outputs": [
    {
     "name": "stdout",
     "output_type": "stream",
     "text": [
      "All keys exist in the dictionary.\n"
     ]
    }
   ],
   "source": [
    "# 40.\tCheck if multiple keys exist in a dictionary\n",
    "source={'DANGER' : 17 , 'Theft' : 420 , 'BOND' : 777}\n",
    "sinc = ['DANGER', 'Theft', 'BOND']\n",
    "all_keys_exist = True\n",
    "for key in sinc:\n",
    "    if key not in source:\n",
    "        all_keys_exist = False\n",
    "        break\n",
    "if all_keys_exist:\n",
    "     print(\"All keys exist in the dictionary.\")\n",
    "else:\n",
    "    print(\"Not all keys exist in the dictionary.\")\n",
    "    \n",
    "    "
   ]
  },
  {
   "cell_type": "code",
   "execution_count": 49,
   "id": "9b26e6c1",
   "metadata": {},
   "outputs": [
    {
     "name": "stdout",
     "output_type": "stream",
     "text": [
      "{'DANGER': 99, 'Theft': 420, 'MAHI': 777}\n"
     ]
    }
   ],
   "source": [
    "# 41.\tCreate a dictionary from two lists without losing duplicate values\n",
    "source=[ 17  , 420 , 777 ,99 ]\n",
    "sinc = ['DANGER' , 'Theft' , 'MAHI' , 'DANGER']\n",
    "result = {}\n",
    "for i in range(len(sinc)):\n",
    "    if sinc[i] not in source:\n",
    "        result[sinc[i]] = source[i]    \n",
    "print(\"New Dictionary with duplicate values\",result)"
   ]
  },
  {
   "cell_type": "code",
   "execution_count": 51,
   "id": "92df0b80",
   "metadata": {},
   "outputs": [
    {
     "name": "stdout",
     "output_type": "stream",
     "text": [
      "Dictionary grouping a sequence of key-value pairs into a dictionary of lists.\n",
      " {2: 'a', 11: 'a', 12: 'a', 14: 'd', 44: 'h'}\n"
     ]
    }
   ],
   "source": [
    "# 42.\tCreate a dictionary grouping a sequence of key-value pairs into a dictionary of lists.\n",
    "\n",
    "listkey = ['a', 'n', 's', 'h', 'y', 'a', 'd', 'a', 'v']\n",
    "listvalue = [12,14,11,2,44]\n",
    "d={}\n",
    "for i in range(len(listkey)):\n",
    "    for j in range(len(listkey)-1):\n",
    "        if listkey[j] > listkey[j+1]:\n",
    "            temp = listkey[j]\n",
    "            listkey[j] = listkey[j+1]\n",
    "            listkey[j+1] = temp\n",
    "for i in range(len(listvalue)):\n",
    "     for j in range(len(listvalue)-1):\n",
    "        if listvalue[j] > listvalue[j+1]:\n",
    "            listvalue[j], listvalue[j+1] = listvalue[j+1], listvalue[j]\n",
    "for i in range(len(listvalue)):\n",
    "    if listkey[i] not in listvalue:\n",
    "        d[listvalue[i]] = listkey[i] \n",
    "print(\"Dictionary grouping a sequence of key-value pairs into a dictionary of lists.\\n\",d)"
   ]
  },
  {
   "cell_type": "code",
   "execution_count": 52,
   "id": "5dde7baa",
   "metadata": {},
   "outputs": [
    {
     "name": "stdout",
     "output_type": "stream",
     "text": [
      "Value Len is 5 of apple\n",
      "Value Len is 6 of banana\n",
      "Value Len is 6 of orange\n"
     ]
    }
   ],
   "source": [
    "# 43.\tFind the length of a dictionary of values\n",
    "\n",
    "my = {1: \"apple\", 3: \"banana\", 2: \"orange\"}\n",
    "for i  in my:\n",
    "    d=0\n",
    "    d=len(my[i])\n",
    "    print(\"Value Len is\",d,\"of\",my[i])    "
   ]
  },
  {
   "cell_type": "code",
   "execution_count": 56,
   "id": "438518f1",
   "metadata": {},
   "outputs": [
    {
     "name": "stdout",
     "output_type": "stream",
     "text": [
      "Enter the Check Number - 3\n",
      "Enter the Range - 7\n",
      "Yes it falls under \n"
     ]
    }
   ],
   "source": [
    "# 44.\tWrite a Python function to check whether a number falls within a given range\n",
    "\n",
    "def settt (n,i):\n",
    "    sett = False\n",
    "    for i2 in range(i):\n",
    "        if n == i2:\n",
    "            sett = True\n",
    "            break\n",
    "        else:\n",
    "            sett = False\n",
    "    if sett == True:\n",
    "         print(\"Yes it falls under \")\n",
    "    elif sett == False:\n",
    "         print(\"No doesn't falls under \")\n",
    "n=int(input(\"Enter the Check Number - \"))\n",
    "i=int(input(\"Enter the Range - \"))\n",
    "settt (n,i)"
   ]
  },
  {
   "cell_type": "code",
   "execution_count": 60,
   "id": "628e1109",
   "metadata": {},
   "outputs": [
    {
     "name": "stdout",
     "output_type": "stream",
     "text": [
      "Enter the string to check the upper and lower case letter :Ansh J Yadav\n",
      "Number of Upper is 3\n",
      "Number of Lower is 7\n"
     ]
    }
   ],
   "source": [
    "'''\n",
    "45.\tWrite a Python function that accepts a string and \n",
    " counts the number of upper and lower case letters\n",
    "'''\n",
    "\n",
    "def check (f):\n",
    "    u=0\n",
    "    l=0\n",
    "    for i in range(len(f)):\n",
    "        if f[i].isupper():\n",
    "            u += 1\n",
    "        if f[i].islower():\n",
    "            l += 1 \n",
    "    print(\"Number of Upper is\",u)        \n",
    "    print(\"Number of Lower is\",l)            \n",
    "str1=str(input(\"Enter the string to check the upper and lower case letter :\"))\n",
    "check(str1)\n",
    " "
   ]
  },
  {
   "cell_type": "code",
   "execution_count": 66,
   "id": "a6f3dddc",
   "metadata": {},
   "outputs": [
    {
     "name": "stdout",
     "output_type": "stream",
     "text": [
      "Enter a Number :7\n",
      "PRIME\n"
     ]
    }
   ],
   "source": [
    "'''\n",
    "46. \tWrite a Python function that takes a number as a parameter\n",
    "         and checks whether the number is prime or not\n",
    "'''\n",
    "\n",
    "def generate_primes(n):\n",
    "    prime = False\n",
    "    numbers = list(range(2, n-1))\n",
    "    for i in numbers:\n",
    "        if n & i == 0:\n",
    "            prime = True\n",
    "            break\n",
    "        else:\n",
    "            prime =  False\n",
    "    if prime == True:\n",
    "        print(\"NOT_PRIME\")\n",
    "    elif prime == False:\n",
    "       print(\"PRIME\")\n",
    "n = int(input(\"Enter a Number :\"))\n",
    "generate_primes(n)\n",
    " "
   ]
  },
  {
   "cell_type": "code",
   "execution_count": 67,
   "id": "b81e1208",
   "metadata": {},
   "outputs": [
    {
     "name": "stdout",
     "output_type": "stream",
     "text": [
      "1\n",
      "1 1\n",
      "1 2 1\n",
      "1 3 3 1\n",
      "1 4 6 4 1\n"
     ]
    }
   ],
   "source": [
    "# 47.\tWrite a Python function that prints out the first n rows of  Pascal's triangle.\n",
    "\n",
    "def pascals_triangle(n):\n",
    "    triangle = [[1]]\n",
    "    for i in range(1, n):\n",
    "        row = [1]\n",
    "        for j in range(1, i):\n",
    "            row.append(triangle[i-1][j-1] + triangle[i-1][j])\n",
    "        row.append(1)\n",
    "        triangle.append(row)\n",
    "    for row in triangle:\n",
    "        print(' '.join(str(num) for num in row))\n",
    "pascals_triangle(5)\n",
    " "
   ]
  },
  {
   "cell_type": "code",
   "execution_count": 70,
   "id": "37c7a86d",
   "metadata": {},
   "outputs": [
    {
     "name": "stdout",
     "output_type": "stream",
     "text": [
      "False\n",
      "False\n"
     ]
    }
   ],
   "source": [
    "# 48.\tFind if a given string starts with a given character using Lambda\n",
    "str1=\"Fast\"\n",
    "str2=\"h\"\n",
    "str3=\"a\"\n",
    "st = lambda x: x.startswith(str2)\n",
    "result1 = st(str1)\n",
    "st = lambda x: x.startswith(str3)\n",
    "result2 = st(str1)\n",
    "print(result1)\n",
    "print(result2)"
   ]
  },
  {
   "cell_type": "code",
   "execution_count": 72,
   "id": "8510c268",
   "metadata": {},
   "outputs": [
    {
     "name": "stdout",
     "output_type": "stream",
     "text": [
      "Fibonacci series  [0, 1, 1, 2, 3, 5, 8, 13, 21, 34]\n"
     ]
    }
   ],
   "source": [
    "# 49.\tCreate Fibonacci series up to n using Lambda\n",
    "n = 10\n",
    "fib = lambda n: n if n <= 1 else fib(n-1) + fib(n-2)\n",
    "fib_series = [fib(i) for i in range(n)]\n",
    "print(\"Fibonacci series \",fib_series)  \n",
    " "
   ]
  },
  {
   "cell_type": "code",
   "execution_count": 73,
   "id": "21cceea2",
   "metadata": {},
   "outputs": [
    {
     "name": "stdout",
     "output_type": "stream",
     "text": [
      "Number of even numbers: 4\n",
      "Number of odd numbers: 5\n"
     ]
    }
   ],
   "source": [
    "# 50.\tCount the even and odd numbers in a given array of integers using Lambda\n",
    "a = [1, 2, 3, 4, 5, 6, 7, 8, 9]\n",
    "even_count = len(list(filter(lambda x: (x % 2 == 0), a)))\n",
    "odd_count = len(list(filter(lambda x: (x % 2 != 0), a)))\n",
    "print(\"Number of even numbers:\", even_count)\n",
    "print(\"Number of odd numbers:\", odd_count)"
   ]
  },
  {
   "cell_type": "code",
   "execution_count": 74,
   "id": "7ade70d8",
   "metadata": {},
   "outputs": [
    {
     "name": "stdout",
     "output_type": "stream",
     "text": [
      "Palindromes  ['naman', 'zayaz', 'radar', 'lol']\n"
     ]
    }
   ],
   "source": [
    "# 51.\tFind palindromes in a given list of strings using Lambda\n",
    "words = [\"naman\" , \"zayaz\" , \"radar\" , \"lol \" ,\"lol\" , \"Bass\"]\n",
    "palindromes = list(filter(lambda x: (x == x[::-1]), words))\n",
    "print(\"Palindromes \", palindromes)"
   ]
  }
 ],
 "metadata": {
  "kernelspec": {
   "display_name": "Python 3 (ipykernel)",
   "language": "python",
   "name": "python3"
  },
  "language_info": {
   "codemirror_mode": {
    "name": "ipython",
    "version": 3
   },
   "file_extension": ".py",
   "mimetype": "text/x-python",
   "name": "python",
   "nbconvert_exporter": "python",
   "pygments_lexer": "ipython3",
   "version": "3.11.3"
  }
 },
 "nbformat": 4,
 "nbformat_minor": 5
}
